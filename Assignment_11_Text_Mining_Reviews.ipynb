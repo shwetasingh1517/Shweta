{
 "cells": [
  {
   "cell_type": "markdown",
   "id": "64aab190",
   "metadata": {},
   "source": [
    " "
   ]
  },
  {
   "cell_type": "markdown",
   "id": "11b4723a",
   "metadata": {},
   "source": [
    "__Question__\n",
    "1) Extract reviews of any product from ecommerce website like amazon\n",
    "\n",
    "2) Perform emotion mining"
   ]
  },
  {
   "cell_type": "markdown",
   "id": "d879ff20",
   "metadata": {},
   "source": [
    "__Extaction of data (Web Scrapping)__"
   ]
  },
  {
   "cell_type": "code",
   "execution_count": null,
   "id": "7e165207",
   "metadata": {
    "ExecuteTime": {
     "end_time": "2022-08-13T14:25:08.035063Z",
     "start_time": "2022-08-13T14:24:55.874609Z"
    }
   },
   "outputs": [],
   "source": [
    "#installing Beautiful soup(BS4) and Request module\n",
    "!pip install bs4\n",
    "!pip install requests"
   ]
  },
  {
   "cell_type": "code",
   "execution_count": 1,
   "id": "8dacec04",
   "metadata": {
    "ExecuteTime": {
     "end_time": "2022-08-13T17:45:32.789966Z",
     "start_time": "2022-08-13T17:45:24.295341Z"
    }
   },
   "outputs": [],
   "source": [
    "#importing necessary libraries\n",
    "import requests\n",
    "from bs4 import BeautifulSoup\n",
    "import pandas as pd\n",
    "import numpy as np\n",
    "import matplotlib.pyplot as plt\n",
    "import seaborn as sns\n",
    "import string\n",
    "import re\n",
    "import spacy\n",
    "import nltk\n",
    "from nltk.tokenize import TweetTokenizer\n",
    "from nltk.corpus import stopwords\n",
    "from nltk.stem import WordNetLemmatizer\n",
    "from wordcloud import WordCloud, STOPWORDS\n",
    "import warnings\n",
    "warnings.filterwarnings(\"ignore\")\n",
    "%matplotlib inline"
   ]
  },
  {
   "cell_type": "code",
   "execution_count": 2,
   "id": "c268e895",
   "metadata": {
    "ExecuteTime": {
     "end_time": "2022-08-13T17:45:33.289899Z",
     "start_time": "2022-08-13T17:45:32.794025Z"
    }
   },
   "outputs": [],
   "source": [
    "HEADERS = ({'User-Agent':\n",
    "            'Mozilla/5.0 (Windows NT 10.0; Win64; x64) \\\n",
    "            AppleWebKit/537.36 (KHTML, like Gecko) \\\n",
    "            Chrome/90.0.4430.212 Safari/537.36',\n",
    "            'Accept-Language': 'en-US, en;q=0.5'})\n",
    "\n",
    "def getdata(url):\n",
    "    r = requests.get(url, headers=HEADERS)\n",
    "    return r.text\n",
    "\n",
    "def html_code(url):\n",
    "    htmldata = getdata(url)\n",
    "    soup = BeautifulSoup(htmldata, 'html.parser')\n",
    "    return (soup)\n",
    "\n",
    "url = \"https://www.amazon.in/ASUS-VivoBook-i5-1135G7-Integrated-X415EA-EB572TS/product-reviews/B09BF65Z1V/ref=cm_cr_arp_d_viewpnt_lft?ie=UTF8&reviewerType=all_reviews&sortBy=helpful&pageNumber=1&filterByStar=positive\"\n",
    "soup = html_code(url)\n",
    "#print(soup)"
   ]
  },
  {
   "cell_type": "code",
   "execution_count": 8,
   "id": "b488e40f",
   "metadata": {
    "ExecuteTime": {
     "end_time": "2022-08-13T17:46:58.208332Z",
     "start_time": "2022-08-13T17:46:58.183829Z"
    }
   },
   "outputs": [
    {
     "name": "stdout",
     "output_type": "stream",
     "text": [
      "['Xoxoxo', 'Akshay Shukla', 'Ashutosh kumar', 'Rajender Kumar', 'kalaiselvan', 'rajiv', 'GAURAV WADHWA', 'Ashutosh Soni', 'Saifur', 'As C.']\n"
     ]
    }
   ],
   "source": [
    "def cus_data(soup):\n",
    "    data_str = \"\"\n",
    "    cus_list = []\n",
    "  \n",
    "    for item in soup.find_all(\"span\", class_=\"a-profile-name\"): #span and class is decided after using inspect element on webpage\n",
    "        data_str = data_str + item.get_text()\n",
    "        cus_list.append(data_str)\n",
    "        data_str = \"\"\n",
    "    return cus_list\n",
    "  \n",
    "  \n",
    "cus_res = cus_data(soup)\n",
    "list = cus_res[2:]\n",
    "print(list)"
   ]
  },
  {
   "cell_type": "code",
   "execution_count": 9,
   "id": "98fa8f80",
   "metadata": {
    "ExecuteTime": {
     "end_time": "2022-08-13T17:47:05.092263Z",
     "start_time": "2022-08-13T17:47:05.057030Z"
    }
   },
   "outputs": [
    {
     "data": {
      "text/plain": [
       "[\"To be honest first I didn't expect this to be so good, in the starting I was worried about the product because many times we come across fraud cases but my product was genuine thank you amazon for building the trustThis laptop is especially for the college students who are into designing, ott platform, online classes, keeping records, coding etcTrust me this combination was pretty good  SSD+HTD for the long run especially for students like me*Pros*•Perfect size to carry everywhere (14inch) feels like an A4 register hehe•The keyboard feel is love, the chiklet keyboard omg 💜💜•Screen is amazing•The upper body is metallic and the lower body is of strong built plastic•Mc antivirus is free of cost•Lifetime MS Office 2019•Windows 11 free update (although I'm using it and it's pretty good)*Cons*•Speakers can be better(the sound is average you can watch a movie and the best part is the sound quality is amazing, clarity is there which makes sense for me as compared to the sound level)•Battery backup is okay okay (still discovering the new options to stable it)~Conclusion: if you are looking for an overall laptop with the best features then you must give it a try (trust me I've gone through a lot while searching for laptops and now I don't want others to suffer so just list up your demands then choose the best option for you) no machine is good or bad it demands upon the person who is looking after it.Don't forget to order a laptop sleeve or case as the metallic body catches fingerprints quickly and try to put a transparent sheet or skin on it to protect the body.\",\n",
       " 'Good laptop. A combination of SSD and HDD at this price range. Start up and shutdown is lightning fast due to SDD but then the laptop itself is slow from day 1 so HDD I guess is not quite up to the mark.Screen quality is goodSize and weight of the laptop is perfect.If you need it for casual work (i.e. some non office work), daily browsing, some light movie and gaming, then this is a perfect laptop.',\n",
       " 'At price of 46,126 this pc dilevers very value for money performance.Iris xe 4GB graphics is also decent .Boots up in 7 sec, heats up in casual gaming so it is not for gaming gives battery approx 4.5 hrs ( while playing YouTube on earphones).Not for Gaming.Best for coding. Small and powerful.',\n",
       " \"I got it at 47990rsAnd there is a little bit of hanging problem after 20 days but actually a good productDon't believe on the riview given by other people is really fakeGo for it\",\n",
       " 'It suits my requirement its compact and very comfort in usage. After using 15\" qll these years first time changing to 14\" its great and worth price.',\n",
       " 'nice product, value for money',\n",
       " 'The pros are:Great priceSsd8gigs ramLight weightGreat screenUsbcThe cons are:Average batteryAverage cameraBulky feel with plasticy bodyno backlit keyboardThank you',\n",
       " 'Camera not very good.. other wise very good product',\n",
       " 'Good laptop for the money, has some nifty n useful features to connect with iPhone and ipad',\n",
       " 'Nothing dislike']"
      ]
     },
     "execution_count": 9,
     "metadata": {},
     "output_type": "execute_result"
    }
   ],
   "source": [
    "def cus_rev(soup):\n",
    "    data_str = \"\"\n",
    "  \n",
    "    for item in soup.find_all(\"span\", class_=\"a-size-base review-text review-text-content\"):\n",
    "        data_str = data_str + item.get_text()\n",
    "  \n",
    "    result = data_str.split(\"\\n\")\n",
    "    return (result)\n",
    "  \n",
    "  \n",
    "rev_data = cus_rev(soup)\n",
    "rev_result = []\n",
    "for i in rev_data:\n",
    "    if i == \"\":\n",
    "        pass\n",
    "    else:\n",
    "        rev_result.append(i)\n",
    "rev_result"
   ]
  },
  {
   "cell_type": "code",
   "execution_count": 5,
   "id": "122aa476",
   "metadata": {
    "ExecuteTime": {
     "end_time": "2022-08-13T17:45:36.770862Z",
     "start_time": "2022-08-13T17:45:36.755888Z"
    }
   },
   "outputs": [
    {
     "name": "stdout",
     "output_type": "stream",
     "text": [
      "10\n"
     ]
    }
   ],
   "source": [
    "print(len(rev_result))"
   ]
  },
  {
   "cell_type": "code",
   "execution_count": 10,
   "id": "1df8cec7",
   "metadata": {
    "ExecuteTime": {
     "end_time": "2022-08-13T17:47:26.251411Z",
     "start_time": "2022-08-13T17:47:26.227462Z"
    }
   },
   "outputs": [],
   "source": [
    "data = {'Name': list,\n",
    "        'review': rev_result}\n",
    "  \n",
    "df = pd.DataFrame(data)\n",
    "\n",
    "df.to_csv('amazon_reviews.csv')"
   ]
  },
  {
   "cell_type": "code",
   "execution_count": 11,
   "id": "126da0dd",
   "metadata": {
    "ExecuteTime": {
     "end_time": "2022-08-13T17:47:29.764319Z",
     "start_time": "2022-08-13T17:47:29.747642Z"
    }
   },
   "outputs": [
    {
     "data": {
      "text/html": [
       "<div>\n",
       "<style scoped>\n",
       "    .dataframe tbody tr th:only-of-type {\n",
       "        vertical-align: middle;\n",
       "    }\n",
       "\n",
       "    .dataframe tbody tr th {\n",
       "        vertical-align: top;\n",
       "    }\n",
       "\n",
       "    .dataframe thead th {\n",
       "        text-align: right;\n",
       "    }\n",
       "</style>\n",
       "<table border=\"1\" class=\"dataframe\">\n",
       "  <thead>\n",
       "    <tr style=\"text-align: right;\">\n",
       "      <th></th>\n",
       "      <th>Name</th>\n",
       "      <th>review</th>\n",
       "    </tr>\n",
       "  </thead>\n",
       "  <tbody>\n",
       "    <tr>\n",
       "      <th>0</th>\n",
       "      <td>Xoxoxo</td>\n",
       "      <td>To be honest first I didn't expect this to be ...</td>\n",
       "    </tr>\n",
       "    <tr>\n",
       "      <th>1</th>\n",
       "      <td>Akshay Shukla</td>\n",
       "      <td>Good laptop. A combination of SSD and HDD at t...</td>\n",
       "    </tr>\n",
       "    <tr>\n",
       "      <th>2</th>\n",
       "      <td>Ashutosh kumar</td>\n",
       "      <td>At price of 46,126 this pc dilevers very value...</td>\n",
       "    </tr>\n",
       "    <tr>\n",
       "      <th>3</th>\n",
       "      <td>Rajender Kumar</td>\n",
       "      <td>I got it at 47990rsAnd there is a little bit o...</td>\n",
       "    </tr>\n",
       "    <tr>\n",
       "      <th>4</th>\n",
       "      <td>kalaiselvan</td>\n",
       "      <td>It suits my requirement its compact and very c...</td>\n",
       "    </tr>\n",
       "    <tr>\n",
       "      <th>5</th>\n",
       "      <td>rajiv</td>\n",
       "      <td>nice product, value for money</td>\n",
       "    </tr>\n",
       "    <tr>\n",
       "      <th>6</th>\n",
       "      <td>GAURAV WADHWA</td>\n",
       "      <td>The pros are:Great priceSsd8gigs ramLight weig...</td>\n",
       "    </tr>\n",
       "    <tr>\n",
       "      <th>7</th>\n",
       "      <td>Ashutosh Soni</td>\n",
       "      <td>Camera not very good.. other wise very good pr...</td>\n",
       "    </tr>\n",
       "    <tr>\n",
       "      <th>8</th>\n",
       "      <td>Saifur</td>\n",
       "      <td>Good laptop for the money, has some nifty n us...</td>\n",
       "    </tr>\n",
       "    <tr>\n",
       "      <th>9</th>\n",
       "      <td>As C.</td>\n",
       "      <td>Nothing dislike</td>\n",
       "    </tr>\n",
       "  </tbody>\n",
       "</table>\n",
       "</div>"
      ],
      "text/plain": [
       "             Name                                             review\n",
       "0          Xoxoxo  To be honest first I didn't expect this to be ...\n",
       "1   Akshay Shukla  Good laptop. A combination of SSD and HDD at t...\n",
       "2  Ashutosh kumar  At price of 46,126 this pc dilevers very value...\n",
       "3  Rajender Kumar  I got it at 47990rsAnd there is a little bit o...\n",
       "4     kalaiselvan  It suits my requirement its compact and very c...\n",
       "5           rajiv                      nice product, value for money\n",
       "6   GAURAV WADHWA  The pros are:Great priceSsd8gigs ramLight weig...\n",
       "7   Ashutosh Soni  Camera not very good.. other wise very good pr...\n",
       "8          Saifur  Good laptop for the money, has some nifty n us...\n",
       "9           As C.                                    Nothing dislike"
      ]
     },
     "execution_count": 11,
     "metadata": {},
     "output_type": "execute_result"
    }
   ],
   "source": [
    "df"
   ]
  },
  {
   "cell_type": "markdown",
   "id": "e7654251",
   "metadata": {},
   "source": [
    "__Emotion mining__"
   ]
  },
  {
   "cell_type": "code",
   "execution_count": 12,
   "id": "a2d29718",
   "metadata": {
    "ExecuteTime": {
     "end_time": "2022-08-13T17:49:10.515188Z",
     "start_time": "2022-08-13T17:49:10.495052Z"
    }
   },
   "outputs": [
    {
     "data": {
      "text/html": [
       "<div>\n",
       "<style scoped>\n",
       "    .dataframe tbody tr th:only-of-type {\n",
       "        vertical-align: middle;\n",
       "    }\n",
       "\n",
       "    .dataframe tbody tr th {\n",
       "        vertical-align: top;\n",
       "    }\n",
       "\n",
       "    .dataframe thead th {\n",
       "        text-align: right;\n",
       "    }\n",
       "</style>\n",
       "<table border=\"1\" class=\"dataframe\">\n",
       "  <thead>\n",
       "    <tr style=\"text-align: right;\">\n",
       "      <th></th>\n",
       "      <th>word</th>\n",
       "      <th>value</th>\n",
       "    </tr>\n",
       "  </thead>\n",
       "  <tbody>\n",
       "    <tr>\n",
       "      <th>0</th>\n",
       "      <td>abandon</td>\n",
       "      <td>-2</td>\n",
       "    </tr>\n",
       "    <tr>\n",
       "      <th>1</th>\n",
       "      <td>abandoned</td>\n",
       "      <td>-2</td>\n",
       "    </tr>\n",
       "    <tr>\n",
       "      <th>2</th>\n",
       "      <td>abandons</td>\n",
       "      <td>-2</td>\n",
       "    </tr>\n",
       "    <tr>\n",
       "      <th>3</th>\n",
       "      <td>abducted</td>\n",
       "      <td>-2</td>\n",
       "    </tr>\n",
       "    <tr>\n",
       "      <th>4</th>\n",
       "      <td>abduction</td>\n",
       "      <td>-2</td>\n",
       "    </tr>\n",
       "    <tr>\n",
       "      <th>...</th>\n",
       "      <td>...</td>\n",
       "      <td>...</td>\n",
       "    </tr>\n",
       "    <tr>\n",
       "      <th>2472</th>\n",
       "      <td>yucky</td>\n",
       "      <td>-2</td>\n",
       "    </tr>\n",
       "    <tr>\n",
       "      <th>2473</th>\n",
       "      <td>yummy</td>\n",
       "      <td>3</td>\n",
       "    </tr>\n",
       "    <tr>\n",
       "      <th>2474</th>\n",
       "      <td>zealot</td>\n",
       "      <td>-2</td>\n",
       "    </tr>\n",
       "    <tr>\n",
       "      <th>2475</th>\n",
       "      <td>zealots</td>\n",
       "      <td>-2</td>\n",
       "    </tr>\n",
       "    <tr>\n",
       "      <th>2476</th>\n",
       "      <td>zealous</td>\n",
       "      <td>2</td>\n",
       "    </tr>\n",
       "  </tbody>\n",
       "</table>\n",
       "<p>2477 rows × 2 columns</p>\n",
       "</div>"
      ],
      "text/plain": [
       "           word  value\n",
       "0       abandon     -2\n",
       "1     abandoned     -2\n",
       "2      abandons     -2\n",
       "3      abducted     -2\n",
       "4     abduction     -2\n",
       "...         ...    ...\n",
       "2472      yucky     -2\n",
       "2473      yummy      3\n",
       "2474     zealot     -2\n",
       "2475    zealots     -2\n",
       "2476    zealous      2\n",
       "\n",
       "[2477 rows x 2 columns]"
      ]
     },
     "execution_count": 12,
     "metadata": {},
     "output_type": "execute_result"
    }
   ],
   "source": [
    "affin=pd.read_csv('Afinn.csv',sep=',',encoding='Latin-1')\n",
    "affin"
   ]
  },
  {
   "cell_type": "code",
   "execution_count": 13,
   "id": "2e2ae73e",
   "metadata": {
    "ExecuteTime": {
     "end_time": "2022-08-13T17:49:13.644979Z",
     "start_time": "2022-08-13T17:49:13.621807Z"
    }
   },
   "outputs": [],
   "source": [
    "affinity_scores=affin.set_index('word')['value'].to_dict()\n",
    "#affinity_scores"
   ]
  },
  {
   "cell_type": "code",
   "execution_count": 14,
   "id": "b6769eab",
   "metadata": {
    "ExecuteTime": {
     "end_time": "2022-08-13T17:49:18.363503Z",
     "start_time": "2022-08-13T17:49:16.355314Z"
    }
   },
   "outputs": [],
   "source": [
    "nlp=spacy.load('en_core_web_md')\n",
    "sentiment_lexicon=affinity_scores\n",
    "\n",
    "def calculate_sentiment(text:str=None):\n",
    "    sent_score=0\n",
    "    if text:\n",
    "        sentence=nlp(text)\n",
    "        for word in sentence:\n",
    "            sent_score+=sentiment_lexicon.get(word.lemma_,0)\n",
    "    return sent_score\n"
   ]
  },
  {
   "cell_type": "code",
   "execution_count": 15,
   "id": "b9bff0fe",
   "metadata": {
    "ExecuteTime": {
     "end_time": "2022-08-13T17:49:20.644079Z",
     "start_time": "2022-08-13T17:49:20.626666Z"
    }
   },
   "outputs": [
    {
     "data": {
      "text/plain": [
       "3"
      ]
     },
     "execution_count": 15,
     "metadata": {},
     "output_type": "execute_result"
    }
   ],
   "source": [
    "calculate_sentiment(text='nice')"
   ]
  },
  {
   "cell_type": "code",
   "execution_count": 16,
   "id": "87b0e3ac",
   "metadata": {
    "ExecuteTime": {
     "end_time": "2022-08-13T17:49:21.577594Z",
     "start_time": "2022-08-13T17:49:21.306804Z"
    }
   },
   "outputs": [
    {
     "data": {
      "text/plain": [
       "0    30\n",
       "1     9\n",
       "2     2\n",
       "3     1\n",
       "4     7\n",
       "5     3\n",
       "6     3\n",
       "7     6\n",
       "8     7\n",
       "9    -2\n",
       "Name: sentiment_value, dtype: int64"
      ]
     },
     "execution_count": 16,
     "metadata": {},
     "output_type": "execute_result"
    }
   ],
   "source": [
    "df['sentiment_value']=df['review'].apply(calculate_sentiment)\n",
    "df['sentiment_value']"
   ]
  },
  {
   "cell_type": "code",
   "execution_count": 17,
   "id": "695d704a",
   "metadata": {
    "ExecuteTime": {
     "end_time": "2022-08-13T17:49:24.543063Z",
     "start_time": "2022-08-13T17:49:24.531298Z"
    }
   },
   "outputs": [
    {
     "data": {
      "text/plain": [
       "0    274\n",
       "1     77\n",
       "2     52\n",
       "3     34\n",
       "4     27\n",
       "5      5\n",
       "6     18\n",
       "7      9\n",
       "8     17\n",
       "9      2\n",
       "Name: word_count, dtype: int64"
      ]
     },
     "execution_count": 17,
     "metadata": {},
     "output_type": "execute_result"
    }
   ],
   "source": [
    "df['word_count']=df['review'].str.split().apply(len)\n",
    "df['word_count']"
   ]
  },
  {
   "cell_type": "code",
   "execution_count": 18,
   "id": "9bc1e55a",
   "metadata": {
    "ExecuteTime": {
     "end_time": "2022-08-13T17:49:26.377631Z",
     "start_time": "2022-08-13T17:49:26.352865Z"
    }
   },
   "outputs": [
    {
     "data": {
      "text/html": [
       "<div>\n",
       "<style scoped>\n",
       "    .dataframe tbody tr th:only-of-type {\n",
       "        vertical-align: middle;\n",
       "    }\n",
       "\n",
       "    .dataframe tbody tr th {\n",
       "        vertical-align: top;\n",
       "    }\n",
       "\n",
       "    .dataframe thead th {\n",
       "        text-align: right;\n",
       "    }\n",
       "</style>\n",
       "<table border=\"1\" class=\"dataframe\">\n",
       "  <thead>\n",
       "    <tr style=\"text-align: right;\">\n",
       "      <th></th>\n",
       "      <th>Name</th>\n",
       "      <th>review</th>\n",
       "      <th>sentiment_value</th>\n",
       "      <th>word_count</th>\n",
       "    </tr>\n",
       "  </thead>\n",
       "  <tbody>\n",
       "    <tr>\n",
       "      <th>9</th>\n",
       "      <td>As C.</td>\n",
       "      <td>Nothing dislike</td>\n",
       "      <td>-2</td>\n",
       "      <td>2</td>\n",
       "    </tr>\n",
       "    <tr>\n",
       "      <th>3</th>\n",
       "      <td>Rajender Kumar</td>\n",
       "      <td>I got it at 47990rsAnd there is a little bit o...</td>\n",
       "      <td>1</td>\n",
       "      <td>34</td>\n",
       "    </tr>\n",
       "    <tr>\n",
       "      <th>2</th>\n",
       "      <td>Ashutosh kumar</td>\n",
       "      <td>At price of 46,126 this pc dilevers very value...</td>\n",
       "      <td>2</td>\n",
       "      <td>52</td>\n",
       "    </tr>\n",
       "    <tr>\n",
       "      <th>5</th>\n",
       "      <td>rajiv</td>\n",
       "      <td>nice product, value for money</td>\n",
       "      <td>3</td>\n",
       "      <td>5</td>\n",
       "    </tr>\n",
       "    <tr>\n",
       "      <th>6</th>\n",
       "      <td>GAURAV WADHWA</td>\n",
       "      <td>The pros are:Great priceSsd8gigs ramLight weig...</td>\n",
       "      <td>3</td>\n",
       "      <td>18</td>\n",
       "    </tr>\n",
       "    <tr>\n",
       "      <th>7</th>\n",
       "      <td>Ashutosh Soni</td>\n",
       "      <td>Camera not very good.. other wise very good pr...</td>\n",
       "      <td>6</td>\n",
       "      <td>9</td>\n",
       "    </tr>\n",
       "    <tr>\n",
       "      <th>4</th>\n",
       "      <td>kalaiselvan</td>\n",
       "      <td>It suits my requirement its compact and very c...</td>\n",
       "      <td>7</td>\n",
       "      <td>27</td>\n",
       "    </tr>\n",
       "    <tr>\n",
       "      <th>8</th>\n",
       "      <td>Saifur</td>\n",
       "      <td>Good laptop for the money, has some nifty n us...</td>\n",
       "      <td>7</td>\n",
       "      <td>17</td>\n",
       "    </tr>\n",
       "    <tr>\n",
       "      <th>1</th>\n",
       "      <td>Akshay Shukla</td>\n",
       "      <td>Good laptop. A combination of SSD and HDD at t...</td>\n",
       "      <td>9</td>\n",
       "      <td>77</td>\n",
       "    </tr>\n",
       "    <tr>\n",
       "      <th>0</th>\n",
       "      <td>Xoxoxo</td>\n",
       "      <td>To be honest first I didn't expect this to be ...</td>\n",
       "      <td>30</td>\n",
       "      <td>274</td>\n",
       "    </tr>\n",
       "  </tbody>\n",
       "</table>\n",
       "</div>"
      ],
      "text/plain": [
       "             Name                                             review  \\\n",
       "9           As C.                                    Nothing dislike   \n",
       "3  Rajender Kumar  I got it at 47990rsAnd there is a little bit o...   \n",
       "2  Ashutosh kumar  At price of 46,126 this pc dilevers very value...   \n",
       "5           rajiv                      nice product, value for money   \n",
       "6   GAURAV WADHWA  The pros are:Great priceSsd8gigs ramLight weig...   \n",
       "7   Ashutosh Soni  Camera not very good.. other wise very good pr...   \n",
       "4     kalaiselvan  It suits my requirement its compact and very c...   \n",
       "8          Saifur  Good laptop for the money, has some nifty n us...   \n",
       "1   Akshay Shukla  Good laptop. A combination of SSD and HDD at t...   \n",
       "0          Xoxoxo  To be honest first I didn't expect this to be ...   \n",
       "\n",
       "   sentiment_value  word_count  \n",
       "9               -2           2  \n",
       "3                1          34  \n",
       "2                2          52  \n",
       "5                3           5  \n",
       "6                3          18  \n",
       "7                6           9  \n",
       "4                7          27  \n",
       "8                7          17  \n",
       "1                9          77  \n",
       "0               30         274  "
      ]
     },
     "execution_count": 18,
     "metadata": {},
     "output_type": "execute_result"
    }
   ],
   "source": [
    "df.sort_values(by='sentiment_value')"
   ]
  },
  {
   "cell_type": "code",
   "execution_count": 19,
   "id": "5f18d2d5",
   "metadata": {
    "ExecuteTime": {
     "end_time": "2022-08-13T17:49:33.089641Z",
     "start_time": "2022-08-13T17:49:33.073149Z"
    }
   },
   "outputs": [
    {
     "data": {
      "text/plain": [
       "count    10.000000\n",
       "mean      6.600000\n",
       "std       8.859396\n",
       "min      -2.000000\n",
       "25%       2.250000\n",
       "50%       4.500000\n",
       "75%       7.000000\n",
       "max      30.000000\n",
       "Name: sentiment_value, dtype: float64"
      ]
     },
     "execution_count": 19,
     "metadata": {},
     "output_type": "execute_result"
    }
   ],
   "source": [
    "df['sentiment_value'].describe()"
   ]
  },
  {
   "cell_type": "markdown",
   "id": "db85702d",
   "metadata": {},
   "source": [
    "__Negative and neutral reviews__"
   ]
  },
  {
   "cell_type": "code",
   "execution_count": 20,
   "id": "ba4cc328",
   "metadata": {
    "ExecuteTime": {
     "end_time": "2022-08-13T17:49:37.773786Z",
     "start_time": "2022-08-13T17:49:37.749993Z"
    }
   },
   "outputs": [
    {
     "data": {
      "text/html": [
       "<div>\n",
       "<style scoped>\n",
       "    .dataframe tbody tr th:only-of-type {\n",
       "        vertical-align: middle;\n",
       "    }\n",
       "\n",
       "    .dataframe tbody tr th {\n",
       "        vertical-align: top;\n",
       "    }\n",
       "\n",
       "    .dataframe thead th {\n",
       "        text-align: right;\n",
       "    }\n",
       "</style>\n",
       "<table border=\"1\" class=\"dataframe\">\n",
       "  <thead>\n",
       "    <tr style=\"text-align: right;\">\n",
       "      <th></th>\n",
       "      <th>Name</th>\n",
       "      <th>review</th>\n",
       "      <th>sentiment_value</th>\n",
       "      <th>word_count</th>\n",
       "    </tr>\n",
       "  </thead>\n",
       "  <tbody>\n",
       "    <tr>\n",
       "      <th>9</th>\n",
       "      <td>As C.</td>\n",
       "      <td>Nothing dislike</td>\n",
       "      <td>-2</td>\n",
       "      <td>2</td>\n",
       "    </tr>\n",
       "  </tbody>\n",
       "</table>\n",
       "</div>"
      ],
      "text/plain": [
       "    Name           review  sentiment_value  word_count\n",
       "9  As C.  Nothing dislike               -2           2"
      ]
     },
     "execution_count": 20,
     "metadata": {},
     "output_type": "execute_result"
    }
   ],
   "source": [
    "df[df['sentiment_value']<=0]"
   ]
  },
  {
   "cell_type": "markdown",
   "id": "e0edc143",
   "metadata": {},
   "source": [
    "__Positive reviews__"
   ]
  },
  {
   "cell_type": "code",
   "execution_count": 21,
   "id": "6dc6bf81",
   "metadata": {
    "ExecuteTime": {
     "end_time": "2022-08-13T17:49:43.772082Z",
     "start_time": "2022-08-13T17:49:43.742727Z"
    }
   },
   "outputs": [
    {
     "data": {
      "text/html": [
       "<div>\n",
       "<style scoped>\n",
       "    .dataframe tbody tr th:only-of-type {\n",
       "        vertical-align: middle;\n",
       "    }\n",
       "\n",
       "    .dataframe tbody tr th {\n",
       "        vertical-align: top;\n",
       "    }\n",
       "\n",
       "    .dataframe thead th {\n",
       "        text-align: right;\n",
       "    }\n",
       "</style>\n",
       "<table border=\"1\" class=\"dataframe\">\n",
       "  <thead>\n",
       "    <tr style=\"text-align: right;\">\n",
       "      <th></th>\n",
       "      <th>Name</th>\n",
       "      <th>review</th>\n",
       "      <th>sentiment_value</th>\n",
       "      <th>word_count</th>\n",
       "    </tr>\n",
       "  </thead>\n",
       "  <tbody>\n",
       "    <tr>\n",
       "      <th>0</th>\n",
       "      <td>Xoxoxo</td>\n",
       "      <td>To be honest first I didn't expect this to be ...</td>\n",
       "      <td>30</td>\n",
       "      <td>274</td>\n",
       "    </tr>\n",
       "    <tr>\n",
       "      <th>1</th>\n",
       "      <td>Akshay Shukla</td>\n",
       "      <td>Good laptop. A combination of SSD and HDD at t...</td>\n",
       "      <td>9</td>\n",
       "      <td>77</td>\n",
       "    </tr>\n",
       "    <tr>\n",
       "      <th>2</th>\n",
       "      <td>Ashutosh kumar</td>\n",
       "      <td>At price of 46,126 this pc dilevers very value...</td>\n",
       "      <td>2</td>\n",
       "      <td>52</td>\n",
       "    </tr>\n",
       "    <tr>\n",
       "      <th>3</th>\n",
       "      <td>Rajender Kumar</td>\n",
       "      <td>I got it at 47990rsAnd there is a little bit o...</td>\n",
       "      <td>1</td>\n",
       "      <td>34</td>\n",
       "    </tr>\n",
       "    <tr>\n",
       "      <th>4</th>\n",
       "      <td>kalaiselvan</td>\n",
       "      <td>It suits my requirement its compact and very c...</td>\n",
       "      <td>7</td>\n",
       "      <td>27</td>\n",
       "    </tr>\n",
       "    <tr>\n",
       "      <th>5</th>\n",
       "      <td>rajiv</td>\n",
       "      <td>nice product, value for money</td>\n",
       "      <td>3</td>\n",
       "      <td>5</td>\n",
       "    </tr>\n",
       "    <tr>\n",
       "      <th>6</th>\n",
       "      <td>GAURAV WADHWA</td>\n",
       "      <td>The pros are:Great priceSsd8gigs ramLight weig...</td>\n",
       "      <td>3</td>\n",
       "      <td>18</td>\n",
       "    </tr>\n",
       "    <tr>\n",
       "      <th>7</th>\n",
       "      <td>Ashutosh Soni</td>\n",
       "      <td>Camera not very good.. other wise very good pr...</td>\n",
       "      <td>6</td>\n",
       "      <td>9</td>\n",
       "    </tr>\n",
       "    <tr>\n",
       "      <th>8</th>\n",
       "      <td>Saifur</td>\n",
       "      <td>Good laptop for the money, has some nifty n us...</td>\n",
       "      <td>7</td>\n",
       "      <td>17</td>\n",
       "    </tr>\n",
       "  </tbody>\n",
       "</table>\n",
       "</div>"
      ],
      "text/plain": [
       "             Name                                             review  \\\n",
       "0          Xoxoxo  To be honest first I didn't expect this to be ...   \n",
       "1   Akshay Shukla  Good laptop. A combination of SSD and HDD at t...   \n",
       "2  Ashutosh kumar  At price of 46,126 this pc dilevers very value...   \n",
       "3  Rajender Kumar  I got it at 47990rsAnd there is a little bit o...   \n",
       "4     kalaiselvan  It suits my requirement its compact and very c...   \n",
       "5           rajiv                      nice product, value for money   \n",
       "6   GAURAV WADHWA  The pros are:Great priceSsd8gigs ramLight weig...   \n",
       "7   Ashutosh Soni  Camera not very good.. other wise very good pr...   \n",
       "8          Saifur  Good laptop for the money, has some nifty n us...   \n",
       "\n",
       "   sentiment_value  word_count  \n",
       "0               30         274  \n",
       "1                9          77  \n",
       "2                2          52  \n",
       "3                1          34  \n",
       "4                7          27  \n",
       "5                3           5  \n",
       "6                3          18  \n",
       "7                6           9  \n",
       "8                7          17  "
      ]
     },
     "execution_count": 21,
     "metadata": {},
     "output_type": "execute_result"
    }
   ],
   "source": [
    "df[df['sentiment_value']>0]"
   ]
  },
  {
   "cell_type": "code",
   "execution_count": 23,
   "id": "da473a92",
   "metadata": {
    "ExecuteTime": {
     "end_time": "2022-08-13T17:54:48.232838Z",
     "start_time": "2022-08-13T17:54:48.215575Z"
    }
   },
   "outputs": [
    {
     "data": {
      "text/html": [
       "<div>\n",
       "<style scoped>\n",
       "    .dataframe tbody tr th:only-of-type {\n",
       "        vertical-align: middle;\n",
       "    }\n",
       "\n",
       "    .dataframe tbody tr th {\n",
       "        vertical-align: top;\n",
       "    }\n",
       "\n",
       "    .dataframe thead th {\n",
       "        text-align: right;\n",
       "    }\n",
       "</style>\n",
       "<table border=\"1\" class=\"dataframe\">\n",
       "  <thead>\n",
       "    <tr style=\"text-align: right;\">\n",
       "      <th></th>\n",
       "      <th>Name</th>\n",
       "      <th>review</th>\n",
       "      <th>sentiment_value</th>\n",
       "      <th>word_count</th>\n",
       "      <th>index</th>\n",
       "    </tr>\n",
       "  </thead>\n",
       "  <tbody>\n",
       "    <tr>\n",
       "      <th>0</th>\n",
       "      <td>Xoxoxo</td>\n",
       "      <td>To be honest first I didn't expect this to be ...</td>\n",
       "      <td>30</td>\n",
       "      <td>274</td>\n",
       "      <td>0</td>\n",
       "    </tr>\n",
       "    <tr>\n",
       "      <th>1</th>\n",
       "      <td>Akshay Shukla</td>\n",
       "      <td>Good laptop. A combination of SSD and HDD at t...</td>\n",
       "      <td>9</td>\n",
       "      <td>77</td>\n",
       "      <td>1</td>\n",
       "    </tr>\n",
       "    <tr>\n",
       "      <th>2</th>\n",
       "      <td>Ashutosh kumar</td>\n",
       "      <td>At price of 46,126 this pc dilevers very value...</td>\n",
       "      <td>2</td>\n",
       "      <td>52</td>\n",
       "      <td>2</td>\n",
       "    </tr>\n",
       "    <tr>\n",
       "      <th>3</th>\n",
       "      <td>Rajender Kumar</td>\n",
       "      <td>I got it at 47990rsAnd there is a little bit o...</td>\n",
       "      <td>1</td>\n",
       "      <td>34</td>\n",
       "      <td>3</td>\n",
       "    </tr>\n",
       "    <tr>\n",
       "      <th>4</th>\n",
       "      <td>kalaiselvan</td>\n",
       "      <td>It suits my requirement its compact and very c...</td>\n",
       "      <td>7</td>\n",
       "      <td>27</td>\n",
       "      <td>4</td>\n",
       "    </tr>\n",
       "    <tr>\n",
       "      <th>5</th>\n",
       "      <td>rajiv</td>\n",
       "      <td>nice product, value for money</td>\n",
       "      <td>3</td>\n",
       "      <td>5</td>\n",
       "      <td>5</td>\n",
       "    </tr>\n",
       "    <tr>\n",
       "      <th>6</th>\n",
       "      <td>GAURAV WADHWA</td>\n",
       "      <td>The pros are:Great priceSsd8gigs ramLight weig...</td>\n",
       "      <td>3</td>\n",
       "      <td>18</td>\n",
       "      <td>6</td>\n",
       "    </tr>\n",
       "    <tr>\n",
       "      <th>7</th>\n",
       "      <td>Ashutosh Soni</td>\n",
       "      <td>Camera not very good.. other wise very good pr...</td>\n",
       "      <td>6</td>\n",
       "      <td>9</td>\n",
       "      <td>7</td>\n",
       "    </tr>\n",
       "    <tr>\n",
       "      <th>8</th>\n",
       "      <td>Saifur</td>\n",
       "      <td>Good laptop for the money, has some nifty n us...</td>\n",
       "      <td>7</td>\n",
       "      <td>17</td>\n",
       "      <td>8</td>\n",
       "    </tr>\n",
       "    <tr>\n",
       "      <th>9</th>\n",
       "      <td>As C.</td>\n",
       "      <td>Nothing dislike</td>\n",
       "      <td>-2</td>\n",
       "      <td>2</td>\n",
       "      <td>9</td>\n",
       "    </tr>\n",
       "  </tbody>\n",
       "</table>\n",
       "</div>"
      ],
      "text/plain": [
       "             Name                                             review  \\\n",
       "0          Xoxoxo  To be honest first I didn't expect this to be ...   \n",
       "1   Akshay Shukla  Good laptop. A combination of SSD and HDD at t...   \n",
       "2  Ashutosh kumar  At price of 46,126 this pc dilevers very value...   \n",
       "3  Rajender Kumar  I got it at 47990rsAnd there is a little bit o...   \n",
       "4     kalaiselvan  It suits my requirement its compact and very c...   \n",
       "5           rajiv                      nice product, value for money   \n",
       "6   GAURAV WADHWA  The pros are:Great priceSsd8gigs ramLight weig...   \n",
       "7   Ashutosh Soni  Camera not very good.. other wise very good pr...   \n",
       "8          Saifur  Good laptop for the money, has some nifty n us...   \n",
       "9           As C.                                    Nothing dislike   \n",
       "\n",
       "   sentiment_value  word_count  index  \n",
       "0               30         274      0  \n",
       "1                9          77      1  \n",
       "2                2          52      2  \n",
       "3                1          34      3  \n",
       "4                7          27      4  \n",
       "5                3           5      5  \n",
       "6                3          18      6  \n",
       "7                6           9      7  \n",
       "8                7          17      8  \n",
       "9               -2           2      9  "
      ]
     },
     "execution_count": 23,
     "metadata": {},
     "output_type": "execute_result"
    }
   ],
   "source": [
    "df['index']=range(0,len(df))\n",
    "df"
   ]
  },
  {
   "cell_type": "code",
   "execution_count": 24,
   "id": "f1e74e59",
   "metadata": {
    "ExecuteTime": {
     "end_time": "2022-08-13T17:55:06.545433Z",
     "start_time": "2022-08-13T17:55:06.250071Z"
    }
   },
   "outputs": [
    {
     "data": {
      "image/png": "[encoded data removed]",
      "text/plain": [
       "<Figure size 1080x720 with 1 Axes>"
      ]
     },
     "metadata": {
      "needs_background": "light"
     },
     "output_type": "display_data"
    }
   ],
   "source": [
    "#Density plot\n",
    "plt.figure(figsize=(15,10))\n",
    "sns.distplot(df['sentiment_value']);"
   ]
  },
  {
   "cell_type": "code",
   "execution_count": 25,
   "id": "3ce4d7f6",
   "metadata": {
    "ExecuteTime": {
     "end_time": "2022-08-13T17:55:31.087204Z",
     "start_time": "2022-08-13T17:55:30.862245Z"
    }
   },
   "outputs": [
    {
     "data": {
      "image/png": "[encoded data removed]",
      "text/plain": [
       "<Figure size 1080x720 with 1 Axes>"
      ]
     },
     "metadata": {
      "needs_background": "light"
     },
     "output_type": "display_data"
    }
   ],
   "source": [
    "#line plot\n",
    "plt.figure(figsize=(15,10))\n",
    "sns.lineplot(y='sentiment_value',x='index',data=df);"
   ]
  },
  {
   "cell_type": "code",
   "execution_count": null,
   "id": "79427c02",
   "metadata": {},
   "outputs": [],
   "source": []
  }
 ],
 "metadata": {
  "kernelspec": {
   "display_name": "Python 3 (ipykernel)",
   "language": "python",
   "name": "python3"
  },
  "language_info": {
   "codemirror_mode": {
    "name": "ipython",
    "version": 3
   },
   "file_extension": ".py",
   "mimetype": "text/x-python",
   "name": "python",
   "nbconvert_exporter": "python",
   "pygments_lexer": "ipython3",
   "version": "3.9.7"
  }
 },
 "nbformat": 4,
 "nbformat_minor": 5
}
