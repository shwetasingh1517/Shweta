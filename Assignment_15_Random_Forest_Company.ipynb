{
 "cells": [
  {
   "cell_type": "markdown",
   "id": "e20ca122",
   "metadata": {},
   "source": [
    "## ASSIGNMENT - 15\n",
    "\n",
    "## Topic - Decision Tree Company Problem¶"
   ]
  },
  {
   "cell_type": "markdown",
   "id": "4bb44c70",
   "metadata": {},
   "source": [
    "__Q. A cloth manufacturing company is interested to know about the segment or attributes causes high sale.__"
   ]
  },
  {
   "cell_type": "code",
   "execution_count": 38,
   "id": "c80c0a63",
   "metadata": {
    "ExecuteTime": {
     "end_time": "2023-01-03T15:32:21.354929Z",
     "start_time": "2023-01-03T15:32:21.345208Z"
    }
   },
   "outputs": [],
   "source": [
    "# importing necessary packages \n",
    "import pandas as pd\n",
    "import matplotlib.pyplot as plt\n",
    "import numpy as np\n",
    " \n",
    "from sklearn.model_selection import train_test_split\n",
    "from sklearn.ensemble import RandomForestClassifier\n",
    "from sklearn.metrics import classification_report,confusion_matrix,f1_score,accuracy_score\n",
    "from sklearn.tree import export_graphviz,plot_tree\n"
   ]
  },
  {
   "cell_type": "code",
   "execution_count": 39,
   "id": "92bd8117",
   "metadata": {
    "ExecuteTime": {
     "end_time": "2023-01-03T15:32:22.020292Z",
     "start_time": "2023-01-03T15:32:21.996462Z"
    }
   },
   "outputs": [
    {
     "data": {
      "text/html": [
       "<div>\n",
       "<style scoped>\n",
       "    .dataframe tbody tr th:only-of-type {\n",
       "        vertical-align: middle;\n",
       "    }\n",
       "\n",
       "    .dataframe tbody tr th {\n",
       "        vertical-align: top;\n",
       "    }\n",
       "\n",
       "    .dataframe thead th {\n",
       "        text-align: right;\n",
       "    }\n",
       "</style>\n",
       "<table border=\"1\" class=\"dataframe\">\n",
       "  <thead>\n",
       "    <tr style=\"text-align: right;\">\n",
       "      <th></th>\n",
       "      <th>Sales</th>\n",
       "      <th>CompPrice</th>\n",
       "      <th>Income</th>\n",
       "      <th>Advertising</th>\n",
       "      <th>Population</th>\n",
       "      <th>Price</th>\n",
       "      <th>ShelveLoc</th>\n",
       "      <th>Age</th>\n",
       "      <th>Education</th>\n",
       "      <th>Urban</th>\n",
       "      <th>US</th>\n",
       "    </tr>\n",
       "  </thead>\n",
       "  <tbody>\n",
       "    <tr>\n",
       "      <th>0</th>\n",
       "      <td>9.50</td>\n",
       "      <td>138</td>\n",
       "      <td>73</td>\n",
       "      <td>11</td>\n",
       "      <td>276</td>\n",
       "      <td>120</td>\n",
       "      <td>Bad</td>\n",
       "      <td>42</td>\n",
       "      <td>17</td>\n",
       "      <td>Yes</td>\n",
       "      <td>Yes</td>\n",
       "    </tr>\n",
       "    <tr>\n",
       "      <th>1</th>\n",
       "      <td>11.22</td>\n",
       "      <td>111</td>\n",
       "      <td>48</td>\n",
       "      <td>16</td>\n",
       "      <td>260</td>\n",
       "      <td>83</td>\n",
       "      <td>Good</td>\n",
       "      <td>65</td>\n",
       "      <td>10</td>\n",
       "      <td>Yes</td>\n",
       "      <td>Yes</td>\n",
       "    </tr>\n",
       "    <tr>\n",
       "      <th>2</th>\n",
       "      <td>10.06</td>\n",
       "      <td>113</td>\n",
       "      <td>35</td>\n",
       "      <td>10</td>\n",
       "      <td>269</td>\n",
       "      <td>80</td>\n",
       "      <td>Medium</td>\n",
       "      <td>59</td>\n",
       "      <td>12</td>\n",
       "      <td>Yes</td>\n",
       "      <td>Yes</td>\n",
       "    </tr>\n",
       "    <tr>\n",
       "      <th>3</th>\n",
       "      <td>7.40</td>\n",
       "      <td>117</td>\n",
       "      <td>100</td>\n",
       "      <td>4</td>\n",
       "      <td>466</td>\n",
       "      <td>97</td>\n",
       "      <td>Medium</td>\n",
       "      <td>55</td>\n",
       "      <td>14</td>\n",
       "      <td>Yes</td>\n",
       "      <td>Yes</td>\n",
       "    </tr>\n",
       "    <tr>\n",
       "      <th>4</th>\n",
       "      <td>4.15</td>\n",
       "      <td>141</td>\n",
       "      <td>64</td>\n",
       "      <td>3</td>\n",
       "      <td>340</td>\n",
       "      <td>128</td>\n",
       "      <td>Bad</td>\n",
       "      <td>38</td>\n",
       "      <td>13</td>\n",
       "      <td>Yes</td>\n",
       "      <td>No</td>\n",
       "    </tr>\n",
       "  </tbody>\n",
       "</table>\n",
       "</div>"
      ],
      "text/plain": [
       "   Sales  CompPrice  Income  Advertising  Population  Price ShelveLoc  Age  \\\n",
       "0   9.50        138      73           11         276    120       Bad   42   \n",
       "1  11.22        111      48           16         260     83      Good   65   \n",
       "2  10.06        113      35           10         269     80    Medium   59   \n",
       "3   7.40        117     100            4         466     97    Medium   55   \n",
       "4   4.15        141      64            3         340    128       Bad   38   \n",
       "\n",
       "   Education Urban   US  \n",
       "0         17   Yes  Yes  \n",
       "1         10   Yes  Yes  \n",
       "2         12   Yes  Yes  \n",
       "3         14   Yes  Yes  \n",
       "4         13   Yes   No  "
      ]
     },
     "execution_count": 39,
     "metadata": {},
     "output_type": "execute_result"
    }
   ],
   "source": [
    "data = pd.read_csv(\"Company_Data.csv\")\n",
    "data.head()"
   ]
  },
  {
   "cell_type": "code",
   "execution_count": 40,
   "id": "5f862ec6",
   "metadata": {
    "ExecuteTime": {
     "end_time": "2023-01-03T15:32:24.470551Z",
     "start_time": "2023-01-03T15:32:24.450648Z"
    }
   },
   "outputs": [
    {
     "name": "stdout",
     "output_type": "stream",
     "text": [
      "<class 'pandas.core.frame.DataFrame'>\n",
      "RangeIndex: 400 entries, 0 to 399\n",
      "Data columns (total 11 columns):\n",
      " #   Column       Non-Null Count  Dtype  \n",
      "---  ------       --------------  -----  \n",
      " 0   Sales        400 non-null    float64\n",
      " 1   CompPrice    400 non-null    int64  \n",
      " 2   Income       400 non-null    int64  \n",
      " 3   Advertising  400 non-null    int64  \n",
      " 4   Population   400 non-null    int64  \n",
      " 5   Price        400 non-null    int64  \n",
      " 6   ShelveLoc    400 non-null    object \n",
      " 7   Age          400 non-null    int64  \n",
      " 8   Education    400 non-null    int64  \n",
      " 9   Urban        400 non-null    object \n",
      " 10  US           400 non-null    object \n",
      "dtypes: float64(1), int64(7), object(3)\n",
      "memory usage: 34.5+ KB\n"
     ]
    }
   ],
   "source": [
    "#Checking of null values and data_type\n",
    "data.info()"
   ]
  },
  {
   "cell_type": "code",
   "execution_count": 41,
   "id": "9acf71f2",
   "metadata": {
    "ExecuteTime": {
     "end_time": "2023-01-03T15:32:26.220013Z",
     "start_time": "2023-01-03T15:32:26.211410Z"
    }
   },
   "outputs": [],
   "source": [
    "#Creating copy of data\n",
    "data1 = data.copy()"
   ]
  },
  {
   "cell_type": "code",
   "execution_count": 42,
   "id": "aeedfff7",
   "metadata": {
    "ExecuteTime": {
     "end_time": "2023-01-03T15:32:27.788247Z",
     "start_time": "2023-01-03T15:32:27.778896Z"
    }
   },
   "outputs": [],
   "source": [
    "# changing target variable to catogerical data\n",
    "\n",
    "data1[\"sales\"]=\"small\"\n",
    "data1.loc[data1[\"Sales\"]>7.49,\"sales\"]=\"large\"\n",
    "data1.drop([\"Sales\"],axis=1,inplace=True)"
   ]
  },
  {
   "cell_type": "code",
   "execution_count": 43,
   "id": "14fdf54c",
   "metadata": {
    "ExecuteTime": {
     "end_time": "2023-01-03T15:32:28.135680Z",
     "start_time": "2023-01-03T15:32:28.115974Z"
    }
   },
   "outputs": [
    {
     "data": {
      "text/html": [
       "<div>\n",
       "<style scoped>\n",
       "    .dataframe tbody tr th:only-of-type {\n",
       "        vertical-align: middle;\n",
       "    }\n",
       "\n",
       "    .dataframe tbody tr th {\n",
       "        vertical-align: top;\n",
       "    }\n",
       "\n",
       "    .dataframe thead th {\n",
       "        text-align: right;\n",
       "    }\n",
       "</style>\n",
       "<table border=\"1\" class=\"dataframe\">\n",
       "  <thead>\n",
       "    <tr style=\"text-align: right;\">\n",
       "      <th></th>\n",
       "      <th>CompPrice</th>\n",
       "      <th>Income</th>\n",
       "      <th>Advertising</th>\n",
       "      <th>Population</th>\n",
       "      <th>Price</th>\n",
       "      <th>ShelveLoc</th>\n",
       "      <th>Age</th>\n",
       "      <th>Education</th>\n",
       "      <th>Urban</th>\n",
       "      <th>US</th>\n",
       "      <th>sales</th>\n",
       "    </tr>\n",
       "  </thead>\n",
       "  <tbody>\n",
       "    <tr>\n",
       "      <th>0</th>\n",
       "      <td>138</td>\n",
       "      <td>73</td>\n",
       "      <td>11</td>\n",
       "      <td>276</td>\n",
       "      <td>120</td>\n",
       "      <td>0</td>\n",
       "      <td>42</td>\n",
       "      <td>17</td>\n",
       "      <td>1</td>\n",
       "      <td>1</td>\n",
       "      <td>large</td>\n",
       "    </tr>\n",
       "    <tr>\n",
       "      <th>1</th>\n",
       "      <td>111</td>\n",
       "      <td>48</td>\n",
       "      <td>16</td>\n",
       "      <td>260</td>\n",
       "      <td>83</td>\n",
       "      <td>2</td>\n",
       "      <td>65</td>\n",
       "      <td>10</td>\n",
       "      <td>1</td>\n",
       "      <td>1</td>\n",
       "      <td>large</td>\n",
       "    </tr>\n",
       "    <tr>\n",
       "      <th>2</th>\n",
       "      <td>113</td>\n",
       "      <td>35</td>\n",
       "      <td>10</td>\n",
       "      <td>269</td>\n",
       "      <td>80</td>\n",
       "      <td>1</td>\n",
       "      <td>59</td>\n",
       "      <td>12</td>\n",
       "      <td>1</td>\n",
       "      <td>1</td>\n",
       "      <td>large</td>\n",
       "    </tr>\n",
       "    <tr>\n",
       "      <th>3</th>\n",
       "      <td>117</td>\n",
       "      <td>100</td>\n",
       "      <td>4</td>\n",
       "      <td>466</td>\n",
       "      <td>97</td>\n",
       "      <td>1</td>\n",
       "      <td>55</td>\n",
       "      <td>14</td>\n",
       "      <td>1</td>\n",
       "      <td>1</td>\n",
       "      <td>small</td>\n",
       "    </tr>\n",
       "    <tr>\n",
       "      <th>4</th>\n",
       "      <td>141</td>\n",
       "      <td>64</td>\n",
       "      <td>3</td>\n",
       "      <td>340</td>\n",
       "      <td>128</td>\n",
       "      <td>0</td>\n",
       "      <td>38</td>\n",
       "      <td>13</td>\n",
       "      <td>1</td>\n",
       "      <td>0</td>\n",
       "      <td>small</td>\n",
       "    </tr>\n",
       "  </tbody>\n",
       "</table>\n",
       "</div>"
      ],
      "text/plain": [
       "   CompPrice  Income  Advertising  Population  Price  ShelveLoc  Age  \\\n",
       "0        138      73           11         276    120          0   42   \n",
       "1        111      48           16         260     83          2   65   \n",
       "2        113      35           10         269     80          1   59   \n",
       "3        117     100            4         466     97          1   55   \n",
       "4        141      64            3         340    128          0   38   \n",
       "\n",
       "   Education  Urban  US  sales  \n",
       "0         17      1   1  large  \n",
       "1         10      1   1  large  \n",
       "2         12      1   1  large  \n",
       "3         14      1   1  small  \n",
       "4         13      1   0  small  "
      ]
     },
     "execution_count": 43,
     "metadata": {},
     "output_type": "execute_result"
    }
   ],
   "source": [
    "#One-hot encoding\n",
    "\n",
    "data1['US'] = data1['US'].map({'Yes':1,'No': 0})\n",
    "data1['Urban'] = data1['Urban'].map({'Yes':1,'No': 0})\n",
    "data1['ShelveLoc'] = data1['ShelveLoc'].map({'Bad':0,'Good':2,'Medium':1})\n",
    "data1.head()"
   ]
  },
  {
   "cell_type": "code",
   "execution_count": 45,
   "id": "600858d6",
   "metadata": {
    "ExecuteTime": {
     "end_time": "2023-01-03T15:32:32.085967Z",
     "start_time": "2023-01-03T15:32:32.072698Z"
    }
   },
   "outputs": [],
   "source": [
    "# spliting the data into train and test \n",
    "\n",
    "x = data1.iloc[:,0:10]\n",
    "y = data1.iloc[:,10]\n",
    "x_train,x_test,y_train,y_test = train_test_split(x,y,test_size = 0.2, random_state = 40)"
   ]
  },
  {
   "cell_type": "code",
   "execution_count": 46,
   "id": "1015dc93",
   "metadata": {
    "ExecuteTime": {
     "end_time": "2023-01-03T15:32:32.784837Z",
     "start_time": "2023-01-03T15:32:32.653498Z"
    }
   },
   "outputs": [
    {
     "data": {
      "text/html": [
       "<style>#sk-container-id-2 {color: black;background-color: white;}#sk-container-id-2 pre{padding: 0;}#sk-container-id-2 div.sk-toggleable {background-color: white;}#sk-container-id-2 label.sk-toggleable__label {cursor: pointer;display: block;width: 100%;margin-bottom: 0;padding: 0.3em;box-sizing: border-box;text-align: center;}#sk-container-id-2 label.sk-toggleable__label-arrow:before {content: \"▸\";float: left;margin-right: 0.25em;color: #696969;}#sk-container-id-2 label.sk-toggleable__label-arrow:hover:before {color: black;}#sk-container-id-2 div.sk-estimator:hover label.sk-toggleable__label-arrow:before {color: black;}#sk-container-id-2 div.sk-toggleable__content {max-height: 0;max-width: 0;overflow: hidden;text-align: left;background-color: #f0f8ff;}#sk-container-id-2 div.sk-toggleable__content pre {margin: 0.2em;color: black;border-radius: 0.25em;background-color: #f0f8ff;}#sk-container-id-2 input.sk-toggleable__control:checked~div.sk-toggleable__content {max-height: 200px;max-width: 100%;overflow: auto;}#sk-container-id-2 input.sk-toggleable__control:checked~label.sk-toggleable__label-arrow:before {content: \"▾\";}#sk-container-id-2 div.sk-estimator input.sk-toggleable__control:checked~label.sk-toggleable__label {background-color: #d4ebff;}#sk-container-id-2 div.sk-label input.sk-toggleable__control:checked~label.sk-toggleable__label {background-color: #d4ebff;}#sk-container-id-2 input.sk-hidden--visually {border: 0;clip: rect(1px 1px 1px 1px);clip: rect(1px, 1px, 1px, 1px);height: 1px;margin: -1px;overflow: hidden;padding: 0;position: absolute;width: 1px;}#sk-container-id-2 div.sk-estimator {font-family: monospace;background-color: #f0f8ff;border: 1px dotted black;border-radius: 0.25em;box-sizing: border-box;margin-bottom: 0.5em;}#sk-container-id-2 div.sk-estimator:hover {background-color: #d4ebff;}#sk-container-id-2 div.sk-parallel-item::after {content: \"\";width: 100%;border-bottom: 1px solid gray;flex-grow: 1;}#sk-container-id-2 div.sk-label:hover label.sk-toggleable__label {background-color: #d4ebff;}#sk-container-id-2 div.sk-serial::before {content: \"\";position: absolute;border-left: 1px solid gray;box-sizing: border-box;top: 0;bottom: 0;left: 50%;z-index: 0;}#sk-container-id-2 div.sk-serial {display: flex;flex-direction: column;align-items: center;background-color: white;padding-right: 0.2em;padding-left: 0.2em;position: relative;}#sk-container-id-2 div.sk-item {position: relative;z-index: 1;}#sk-container-id-2 div.sk-parallel {display: flex;align-items: stretch;justify-content: center;background-color: white;position: relative;}#sk-container-id-2 div.sk-item::before, #sk-container-id-2 div.sk-parallel-item::before {content: \"\";position: absolute;border-left: 1px solid gray;box-sizing: border-box;top: 0;bottom: 0;left: 50%;z-index: -1;}#sk-container-id-2 div.sk-parallel-item {display: flex;flex-direction: column;z-index: 1;position: relative;background-color: white;}#sk-container-id-2 div.sk-parallel-item:first-child::after {align-self: flex-end;width: 50%;}#sk-container-id-2 div.sk-parallel-item:last-child::after {align-self: flex-start;width: 50%;}#sk-container-id-2 div.sk-parallel-item:only-child::after {width: 0;}#sk-container-id-2 div.sk-dashed-wrapped {border: 1px dashed gray;margin: 0 0.4em 0.5em 0.4em;box-sizing: border-box;padding-bottom: 0.4em;background-color: white;}#sk-container-id-2 div.sk-label label {font-family: monospace;font-weight: bold;display: inline-block;line-height: 1.2em;}#sk-container-id-2 div.sk-label-container {text-align: center;}#sk-container-id-2 div.sk-container {/* jupyter's `normalize.less` sets `[hidden] { display: none; }` but bootstrap.min.css set `[hidden] { display: none !important; }` so we also need the `!important` here to be able to override the default hidden behavior on the sphinx rendered scikit-learn.org. See: https://github.com/scikit-learn/scikit-learn/issues/21755 */display: inline-block !important;position: relative;}#sk-container-id-2 div.sk-text-repr-fallback {display: none;}</style><div id=\"sk-container-id-2\" class=\"sk-top-container\"><div class=\"sk-text-repr-fallback\"><pre>RandomForestClassifier(max_features=3)</pre><b>In a Jupyter environment, please rerun this cell to show the HTML representation or trust the notebook. <br />On GitHub, the HTML representation is unable to render, please try loading this page with nbviewer.org.</b></div><div class=\"sk-container\" hidden><div class=\"sk-item\"><div class=\"sk-estimator sk-toggleable\"><input class=\"sk-toggleable__control sk-hidden--visually\" id=\"sk-estimator-id-2\" type=\"checkbox\" checked><label for=\"sk-estimator-id-2\" class=\"sk-toggleable__label sk-toggleable__label-arrow\">RandomForestClassifier</label><div class=\"sk-toggleable__content\"><pre>RandomForestClassifier(max_features=3)</pre></div></div></div></div></div>"
      ],
      "text/plain": [
       "RandomForestClassifier(max_features=3)"
      ]
     },
     "execution_count": 46,
     "metadata": {},
     "output_type": "execute_result"
    }
   ],
   "source": [
    "# model building\n",
    "\n",
    "model = RandomForestClassifier(n_estimators=100,max_features=3)\n",
    "model.fit(x_train,y_train)"
   ]
  },
  {
   "cell_type": "code",
   "execution_count": 47,
   "id": "2f04043c",
   "metadata": {
    "ExecuteTime": {
     "end_time": "2023-01-03T15:32:35.051834Z",
     "start_time": "2023-01-03T15:32:35.022834Z"
    }
   },
   "outputs": [
    {
     "data": {
      "text/plain": [
       "large    41\n",
       "small    39\n",
       "dtype: int64"
      ]
     },
     "execution_count": 47,
     "metadata": {},
     "output_type": "execute_result"
    }
   ],
   "source": [
    "# predicting on test data set\n",
    "\n",
    "preds = model.predict(x_test)  \n",
    "pd.Series(preds).value_counts()"
   ]
  },
  {
   "cell_type": "code",
   "execution_count": 48,
   "id": "46ca624f",
   "metadata": {
    "ExecuteTime": {
     "end_time": "2023-01-03T15:32:36.767560Z",
     "start_time": "2023-01-03T15:32:36.759640Z"
    }
   },
   "outputs": [
    {
     "name": "stdout",
     "output_type": "stream",
     "text": [
      "['large' 'small' 'small' 'large' 'small' 'small' 'large' 'large' 'large'\n",
      " 'large' 'small' 'small' 'large' 'large' 'large' 'small' 'large' 'large'\n",
      " 'small' 'small' 'large' 'large' 'large' 'large' 'small' 'small' 'large'\n",
      " 'small' 'large' 'large' 'large' 'large' 'large' 'large' 'large' 'large'\n",
      " 'large' 'small' 'small' 'large' 'small' 'small' 'small' 'large' 'small'\n",
      " 'large' 'small' 'small' 'small' 'small' 'small' 'small' 'large' 'small'\n",
      " 'small' 'large' 'large' 'small' 'small' 'small' 'small' 'small' 'large'\n",
      " 'large' 'small' 'large' 'large' 'small' 'large' 'large' 'large' 'large'\n",
      " 'large' 'small' 'small' 'large' 'small' 'small' 'small' 'small']\n"
     ]
    }
   ],
   "source": [
    "print(preds)"
   ]
  },
  {
   "cell_type": "code",
   "execution_count": 49,
   "id": "4b47c47d",
   "metadata": {
    "ExecuteTime": {
     "end_time": "2023-01-03T15:32:37.067369Z",
     "start_time": "2023-01-03T15:32:37.061383Z"
    }
   },
   "outputs": [
    {
     "data": {
      "text/plain": [
       "0.775"
      ]
     },
     "execution_count": 49,
     "metadata": {},
     "output_type": "execute_result"
    }
   ],
   "source": [
    "#Accuracy\n",
    "accuracy_score(y_test,preds)"
   ]
  },
  {
   "cell_type": "code",
   "execution_count": 50,
   "id": "8308d368",
   "metadata": {
    "ExecuteTime": {
     "end_time": "2023-01-03T15:32:38.666198Z",
     "start_time": "2023-01-03T15:32:38.643358Z"
    },
    "scrolled": true
   },
   "outputs": [
    {
     "data": {
      "text/html": [
       "<div>\n",
       "<style scoped>\n",
       "    .dataframe tbody tr th:only-of-type {\n",
       "        vertical-align: middle;\n",
       "    }\n",
       "\n",
       "    .dataframe tbody tr th {\n",
       "        vertical-align: top;\n",
       "    }\n",
       "\n",
       "    .dataframe thead th {\n",
       "        text-align: right;\n",
       "    }\n",
       "</style>\n",
       "<table border=\"1\" class=\"dataframe\">\n",
       "  <thead>\n",
       "    <tr style=\"text-align: right;\">\n",
       "      <th></th>\n",
       "      <th>Actual</th>\n",
       "      <th>Predicted</th>\n",
       "    </tr>\n",
       "  </thead>\n",
       "  <tbody>\n",
       "    <tr>\n",
       "      <th>132</th>\n",
       "      <td>large</td>\n",
       "      <td>large</td>\n",
       "    </tr>\n",
       "    <tr>\n",
       "      <th>390</th>\n",
       "      <td>small</td>\n",
       "      <td>small</td>\n",
       "    </tr>\n",
       "    <tr>\n",
       "      <th>310</th>\n",
       "      <td>large</td>\n",
       "      <td>small</td>\n",
       "    </tr>\n",
       "    <tr>\n",
       "      <th>3</th>\n",
       "      <td>small</td>\n",
       "      <td>large</td>\n",
       "    </tr>\n",
       "    <tr>\n",
       "      <th>248</th>\n",
       "      <td>small</td>\n",
       "      <td>small</td>\n",
       "    </tr>\n",
       "    <tr>\n",
       "      <th>...</th>\n",
       "      <td>...</td>\n",
       "      <td>...</td>\n",
       "    </tr>\n",
       "    <tr>\n",
       "      <th>361</th>\n",
       "      <td>large</td>\n",
       "      <td>large</td>\n",
       "    </tr>\n",
       "    <tr>\n",
       "      <th>197</th>\n",
       "      <td>small</td>\n",
       "      <td>small</td>\n",
       "    </tr>\n",
       "    <tr>\n",
       "      <th>23</th>\n",
       "      <td>small</td>\n",
       "      <td>small</td>\n",
       "    </tr>\n",
       "    <tr>\n",
       "      <th>54</th>\n",
       "      <td>small</td>\n",
       "      <td>small</td>\n",
       "    </tr>\n",
       "    <tr>\n",
       "      <th>58</th>\n",
       "      <td>small</td>\n",
       "      <td>small</td>\n",
       "    </tr>\n",
       "  </tbody>\n",
       "</table>\n",
       "<p>80 rows × 2 columns</p>\n",
       "</div>"
      ],
      "text/plain": [
       "    Actual Predicted\n",
       "132  large     large\n",
       "390  small     small\n",
       "310  large     small\n",
       "3    small     large\n",
       "248  small     small\n",
       "..     ...       ...\n",
       "361  large     large\n",
       "197  small     small\n",
       "23   small     small\n",
       "54   small     small\n",
       "58   small     small\n",
       "\n",
       "[80 rows x 2 columns]"
      ]
     },
     "execution_count": 50,
     "metadata": {},
     "output_type": "execute_result"
    }
   ],
   "source": [
    "df = pd.DataFrame({'Actual':y_test, 'Predicted':preds})\n",
    "df"
   ]
  },
  {
   "cell_type": "code",
   "execution_count": 51,
   "id": "e3bfc060",
   "metadata": {
    "ExecuteTime": {
     "end_time": "2023-01-03T15:32:44.032055Z",
     "start_time": "2023-01-03T15:32:40.746856Z"
    }
   },
   "outputs": [
    {
     "data": {
      "text/plain": [
       "[Text(0.35300925925925924, 0.9583333333333334, 'X[4] <= 105.5\\ngini = 0.5\\nsamples = 210\\nvalue = [162, 158]'),\n",
       " Text(0.12037037037037036, 0.875, 'X[2] <= 0.5\\ngini = 0.363\\nsamples = 73\\nvalue = [80, 25]'),\n",
       " Text(0.037037037037037035, 0.7916666666666666, 'X[0] <= 98.5\\ngini = 0.491\\nsamples = 25\\nvalue = [21, 16]'),\n",
       " Text(0.018518518518518517, 0.7083333333333334, 'gini = 0.0\\nsamples = 5\\nvalue = [7, 0]'),\n",
       " Text(0.05555555555555555, 0.7083333333333334, 'X[0] <= 109.5\\ngini = 0.498\\nsamples = 20\\nvalue = [14, 16]'),\n",
       " Text(0.037037037037037035, 0.625, 'gini = 0.0\\nsamples = 4\\nvalue = [0, 8]'),\n",
       " Text(0.07407407407407407, 0.625, 'X[6] <= 74.0\\ngini = 0.463\\nsamples = 16\\nvalue = [14, 8]'),\n",
       " Text(0.05555555555555555, 0.5416666666666666, 'X[0] <= 114.0\\ngini = 0.291\\nsamples = 13\\nvalue = [14, 3]'),\n",
       " Text(0.037037037037037035, 0.4583333333333333, 'gini = 0.0\\nsamples = 3\\nvalue = [6, 0]'),\n",
       " Text(0.07407407407407407, 0.4583333333333333, 'X[7] <= 11.5\\ngini = 0.397\\nsamples = 10\\nvalue = [8, 3]'),\n",
       " Text(0.05555555555555555, 0.375, 'gini = 0.0\\nsamples = 3\\nvalue = [0, 3]'),\n",
       " Text(0.09259259259259259, 0.375, 'gini = 0.0\\nsamples = 7\\nvalue = [8, 0]'),\n",
       " Text(0.09259259259259259, 0.5416666666666666, 'gini = 0.0\\nsamples = 3\\nvalue = [0, 5]'),\n",
       " Text(0.2037037037037037, 0.7916666666666666, 'X[6] <= 60.5\\ngini = 0.23\\nsamples = 48\\nvalue = [59, 9]'),\n",
       " Text(0.16666666666666666, 0.7083333333333334, 'X[0] <= 102.0\\ngini = 0.081\\nsamples = 31\\nvalue = [45, 2]'),\n",
       " Text(0.14814814814814814, 0.625, 'X[5] <= 0.5\\ngini = 0.48\\nsamples = 5\\nvalue = [3, 2]'),\n",
       " Text(0.12962962962962962, 0.5416666666666666, 'gini = 0.0\\nsamples = 2\\nvalue = [0, 2]'),\n",
       " Text(0.16666666666666666, 0.5416666666666666, 'gini = 0.0\\nsamples = 3\\nvalue = [3, 0]'),\n",
       " Text(0.18518518518518517, 0.625, 'gini = 0.0\\nsamples = 26\\nvalue = [42, 0]'),\n",
       " Text(0.24074074074074073, 0.7083333333333334, 'X[7] <= 17.5\\ngini = 0.444\\nsamples = 17\\nvalue = [14, 7]'),\n",
       " Text(0.2222222222222222, 0.625, 'X[3] <= 268.0\\ngini = 0.465\\nsamples = 16\\nvalue = [12, 7]'),\n",
       " Text(0.2037037037037037, 0.5416666666666666, 'gini = 0.0\\nsamples = 5\\nvalue = [7, 0]'),\n",
       " Text(0.24074074074074073, 0.5416666666666666, 'X[6] <= 62.5\\ngini = 0.486\\nsamples = 11\\nvalue = [5, 7]'),\n",
       " Text(0.2222222222222222, 0.4583333333333333, 'gini = 0.0\\nsamples = 2\\nvalue = [0, 3]'),\n",
       " Text(0.25925925925925924, 0.4583333333333333, 'X[1] <= 85.0\\ngini = 0.494\\nsamples = 9\\nvalue = [5, 4]'),\n",
       " Text(0.24074074074074073, 0.375, 'X[4] <= 74.5\\ngini = 0.32\\nsamples = 5\\nvalue = [1, 4]'),\n",
       " Text(0.2222222222222222, 0.2916666666666667, 'gini = 0.0\\nsamples = 1\\nvalue = [1, 0]'),\n",
       " Text(0.25925925925925924, 0.2916666666666667, 'gini = 0.0\\nsamples = 4\\nvalue = [0, 4]'),\n",
       " Text(0.2777777777777778, 0.375, 'gini = 0.0\\nsamples = 4\\nvalue = [4, 0]'),\n",
       " Text(0.25925925925925924, 0.625, 'gini = 0.0\\nsamples = 1\\nvalue = [2, 0]'),\n",
       " Text(0.5856481481481481, 0.875, 'X[5] <= 0.5\\ngini = 0.472\\nsamples = 137\\nvalue = [82, 133]'),\n",
       " Text(0.4074074074074074, 0.7916666666666666, 'X[4] <= 120.5\\ngini = 0.042\\nsamples = 32\\nvalue = [1, 46]'),\n",
       " Text(0.3888888888888889, 0.7083333333333334, 'X[7] <= 16.5\\ngini = 0.117\\nsamples = 11\\nvalue = [1, 15]'),\n",
       " Text(0.37037037037037035, 0.625, 'gini = 0.0\\nsamples = 9\\nvalue = [0, 14]'),\n",
       " Text(0.4074074074074074, 0.625, 'X[1] <= 74.0\\ngini = 0.5\\nsamples = 2\\nvalue = [1, 1]'),\n",
       " Text(0.3888888888888889, 0.5416666666666666, 'gini = 0.0\\nsamples = 1\\nvalue = [1, 0]'),\n",
       " Text(0.42592592592592593, 0.5416666666666666, 'gini = 0.0\\nsamples = 1\\nvalue = [0, 1]'),\n",
       " Text(0.42592592592592593, 0.7083333333333334, 'gini = 0.0\\nsamples = 21\\nvalue = [0, 31]'),\n",
       " Text(0.7638888888888888, 0.7916666666666666, 'X[5] <= 1.5\\ngini = 0.499\\nsamples = 105\\nvalue = [81, 87]'),\n",
       " Text(0.6481481481481481, 0.7083333333333334, 'X[7] <= 16.5\\ngini = 0.479\\nsamples = 77\\nvalue = [51, 77]'),\n",
       " Text(0.5370370370370371, 0.625, 'X[0] <= 138.5\\ngini = 0.499\\nsamples = 59\\nvalue = [45, 50]'),\n",
       " Text(0.46296296296296297, 0.5416666666666666, 'X[1] <= 96.5\\ngini = 0.461\\nsamples = 49\\nvalue = [27, 48]'),\n",
       " Text(0.37037037037037035, 0.4583333333333333, 'X[6] <= 38.0\\ngini = 0.406\\nsamples = 38\\nvalue = [17, 43]'),\n",
       " Text(0.3148148148148148, 0.375, 'X[2] <= 4.0\\ngini = 0.375\\nsamples = 4\\nvalue = [6, 2]'),\n",
       " Text(0.2962962962962963, 0.2916666666666667, 'gini = 0.0\\nsamples = 1\\nvalue = [0, 2]'),\n",
       " Text(0.3333333333333333, 0.2916666666666667, 'gini = 0.0\\nsamples = 3\\nvalue = [6, 0]'),\n",
       " Text(0.42592592592592593, 0.375, 'X[2] <= 11.5\\ngini = 0.334\\nsamples = 34\\nvalue = [11, 41]'),\n",
       " Text(0.37037037037037035, 0.2916666666666667, 'X[1] <= 61.5\\ngini = 0.108\\nsamples = 23\\nvalue = [2, 33]'),\n",
       " Text(0.35185185185185186, 0.20833333333333334, 'gini = 0.0\\nsamples = 13\\nvalue = [0, 21]'),\n",
       " Text(0.3888888888888889, 0.20833333333333334, 'X[7] <= 13.0\\ngini = 0.245\\nsamples = 10\\nvalue = [2, 12]'),\n",
       " Text(0.37037037037037035, 0.125, 'gini = 0.0\\nsamples = 6\\nvalue = [0, 9]'),\n",
       " Text(0.4074074074074074, 0.125, 'X[1] <= 67.5\\ngini = 0.48\\nsamples = 4\\nvalue = [2, 3]'),\n",
       " Text(0.3888888888888889, 0.041666666666666664, 'gini = 0.0\\nsamples = 2\\nvalue = [2, 0]'),\n",
       " Text(0.42592592592592593, 0.041666666666666664, 'gini = 0.0\\nsamples = 2\\nvalue = [0, 3]'),\n",
       " Text(0.48148148148148145, 0.2916666666666667, 'X[4] <= 127.5\\ngini = 0.498\\nsamples = 11\\nvalue = [9, 8]'),\n",
       " Text(0.46296296296296297, 0.20833333333333334, 'X[3] <= 233.5\\ngini = 0.375\\nsamples = 8\\nvalue = [9, 3]'),\n",
       " Text(0.4444444444444444, 0.125, 'gini = 0.0\\nsamples = 3\\nvalue = [5, 0]'),\n",
       " Text(0.48148148148148145, 0.125, 'X[7] <= 13.5\\ngini = 0.49\\nsamples = 5\\nvalue = [4, 3]'),\n",
       " Text(0.46296296296296297, 0.041666666666666664, 'gini = 0.0\\nsamples = 3\\nvalue = [4, 0]'),\n",
       " Text(0.5, 0.041666666666666664, 'gini = 0.0\\nsamples = 2\\nvalue = [0, 3]'),\n",
       " Text(0.5, 0.20833333333333334, 'gini = 0.0\\nsamples = 3\\nvalue = [0, 5]'),\n",
       " Text(0.5555555555555556, 0.4583333333333333, 'X[4] <= 123.0\\ngini = 0.444\\nsamples = 11\\nvalue = [10, 5]'),\n",
       " Text(0.5370370370370371, 0.375, 'gini = 0.0\\nsamples = 6\\nvalue = [9, 0]'),\n",
       " Text(0.5740740740740741, 0.375, 'X[7] <= 10.5\\ngini = 0.278\\nsamples = 5\\nvalue = [1, 5]'),\n",
       " Text(0.5555555555555556, 0.2916666666666667, 'X[0] <= 131.5\\ngini = 0.5\\nsamples = 2\\nvalue = [1, 1]'),\n",
       " Text(0.5370370370370371, 0.20833333333333334, 'gini = 0.0\\nsamples = 1\\nvalue = [1, 0]'),\n",
       " Text(0.5740740740740741, 0.20833333333333334, 'gini = 0.0\\nsamples = 1\\nvalue = [0, 1]'),\n",
       " Text(0.5925925925925926, 0.2916666666666667, 'gini = 0.0\\nsamples = 3\\nvalue = [0, 4]'),\n",
       " Text(0.6111111111111112, 0.5416666666666666, 'X[1] <= 26.0\\ngini = 0.18\\nsamples = 10\\nvalue = [18, 2]'),\n",
       " Text(0.5925925925925926, 0.4583333333333333, 'gini = 0.0\\nsamples = 1\\nvalue = [0, 1]'),\n",
       " Text(0.6296296296296297, 0.4583333333333333, 'X[0] <= 151.5\\ngini = 0.1\\nsamples = 9\\nvalue = [18, 1]'),\n",
       " Text(0.6111111111111112, 0.375, 'gini = 0.0\\nsamples = 8\\nvalue = [18, 0]'),\n",
       " Text(0.6481481481481481, 0.375, 'gini = 0.0\\nsamples = 1\\nvalue = [0, 1]'),\n",
       " Text(0.7592592592592593, 0.625, 'X[2] <= 15.5\\ngini = 0.298\\nsamples = 18\\nvalue = [6, 27]'),\n",
       " Text(0.7407407407407407, 0.5416666666666666, 'X[6] <= 74.5\\ngini = 0.18\\nsamples = 16\\nvalue = [3, 27]'),\n",
       " Text(0.7037037037037037, 0.4583333333333333, 'X[4] <= 116.5\\ngini = 0.071\\nsamples = 14\\nvalue = [1, 26]'),\n",
       " Text(0.6851851851851852, 0.375, 'X[4] <= 111.0\\ngini = 0.375\\nsamples = 3\\nvalue = [1, 3]'),\n",
       " Text(0.6666666666666666, 0.2916666666666667, 'gini = 0.0\\nsamples = 2\\nvalue = [0, 3]'),\n",
       " Text(0.7037037037037037, 0.2916666666666667, 'gini = 0.0\\nsamples = 1\\nvalue = [1, 0]'),\n",
       " Text(0.7222222222222222, 0.375, 'gini = 0.0\\nsamples = 11\\nvalue = [0, 23]'),\n",
       " Text(0.7777777777777778, 0.4583333333333333, 'X[0] <= 143.0\\ngini = 0.444\\nsamples = 2\\nvalue = [2, 1]'),\n",
       " Text(0.7592592592592593, 0.375, 'gini = 0.0\\nsamples = 1\\nvalue = [0, 1]'),\n",
       " Text(0.7962962962962963, 0.375, 'gini = 0.0\\nsamples = 1\\nvalue = [2, 0]'),\n",
       " Text(0.7777777777777778, 0.5416666666666666, 'gini = 0.0\\nsamples = 2\\nvalue = [3, 0]'),\n",
       " Text(0.8796296296296297, 0.7083333333333334, 'X[1] <= 32.5\\ngini = 0.375\\nsamples = 28\\nvalue = [30, 10]'),\n",
       " Text(0.8333333333333334, 0.625, 'X[3] <= 362.0\\ngini = 0.375\\nsamples = 3\\nvalue = [1, 3]'),\n",
       " Text(0.8148148148148148, 0.5416666666666666, 'gini = 0.0\\nsamples = 2\\nvalue = [0, 3]'),\n",
       " Text(0.8518518518518519, 0.5416666666666666, 'gini = 0.0\\nsamples = 1\\nvalue = [1, 0]'),\n",
       " Text(0.9259259259259259, 0.625, 'X[6] <= 51.5\\ngini = 0.313\\nsamples = 25\\nvalue = [29, 7]'),\n",
       " Text(0.8888888888888888, 0.5416666666666666, 'X[6] <= 50.5\\ngini = 0.469\\nsamples = 10\\nvalue = [10, 6]'),\n",
       " Text(0.8703703703703703, 0.4583333333333333, 'X[0] <= 131.0\\ngini = 0.408\\nsamples = 9\\nvalue = [10, 4]'),\n",
       " Text(0.8518518518518519, 0.375, 'X[3] <= 311.5\\ngini = 0.5\\nsamples = 6\\nvalue = [4, 4]'),\n",
       " Text(0.8333333333333334, 0.2916666666666667, 'gini = 0.0\\nsamples = 3\\nvalue = [0, 4]'),\n",
       " Text(0.8703703703703703, 0.2916666666666667, 'gini = 0.0\\nsamples = 3\\nvalue = [4, 0]'),\n",
       " Text(0.8888888888888888, 0.375, 'gini = 0.0\\nsamples = 3\\nvalue = [6, 0]'),\n",
       " Text(0.9074074074074074, 0.4583333333333333, 'gini = 0.0\\nsamples = 1\\nvalue = [0, 2]'),\n",
       " Text(0.9629629629629629, 0.5416666666666666, 'X[6] <= 73.5\\ngini = 0.095\\nsamples = 15\\nvalue = [19, 1]'),\n",
       " Text(0.9444444444444444, 0.4583333333333333, 'gini = 0.0\\nsamples = 14\\nvalue = [19, 0]'),\n",
       " Text(0.9814814814814815, 0.4583333333333333, 'gini = 0.0\\nsamples = 1\\nvalue = [0, 1]')]"
      ]
     },
     "execution_count": 51,
     "metadata": {},
     "output_type": "execute_result"
    },
    {
     "data": {
      "image/png": "[encoded data removed]",
      "text/plain": [
       "<Figure size 1080x720 with 1 Axes>"
      ]
     },
     "metadata": {
      "needs_background": "light"
     },
     "output_type": "display_data"
    }
   ],
   "source": [
    "# Plotting of tree\n",
    "\n",
    "fig = plt.figure(figsize=(15, 10))\n",
    "plot_tree(model.estimators_[2], \n",
    "          filled=True, impurity=True, \n",
    "          rounded=True)"
   ]
  },
  {
   "cell_type": "code",
   "execution_count": 52,
   "id": "4a7a9fcd",
   "metadata": {
    "ExecuteTime": {
     "end_time": "2023-01-03T15:32:51.951227Z",
     "start_time": "2023-01-03T15:32:51.930006Z"
    }
   },
   "outputs": [
    {
     "name": "stdout",
     "output_type": "stream",
     "text": [
      "[[29  6]\n",
      " [12 33]]\n",
      "              precision    recall  f1-score   support\n",
      "\n",
      "       large       0.71      0.83      0.76        35\n",
      "       small       0.85      0.73      0.79        45\n",
      "\n",
      "    accuracy                           0.78        80\n",
      "   macro avg       0.78      0.78      0.77        80\n",
      "weighted avg       0.79      0.78      0.78        80\n",
      "\n"
     ]
    }
   ],
   "source": [
    "# Report and confusion matrix\n",
    "\n",
    "print(confusion_matrix(y_test,preds))\n",
    "print(classification_report(y_test,preds))"
   ]
  },
  {
   "cell_type": "code",
   "execution_count": 53,
   "id": "ab09b375",
   "metadata": {
    "ExecuteTime": {
     "end_time": "2023-01-03T15:32:54.794990Z",
     "start_time": "2023-01-03T15:32:54.769150Z"
    }
   },
   "outputs": [
    {
     "data": {
      "text/plain": [
       "array([0.12145718, 0.1023627 , 0.09823913, 0.08389275, 0.24401183,\n",
       "       0.15469101, 0.11537355, 0.05262735, 0.01268774, 0.01465674])"
      ]
     },
     "execution_count": 53,
     "metadata": {},
     "output_type": "execute_result"
    }
   ],
   "source": [
    "model.feature_importances_"
   ]
  },
  {
   "cell_type": "code",
   "execution_count": 54,
   "id": "949e029d",
   "metadata": {
    "ExecuteTime": {
     "end_time": "2023-01-03T15:32:55.210905Z",
     "start_time": "2023-01-03T15:32:55.187945Z"
    }
   },
   "outputs": [
    {
     "data": {
      "text/html": [
       "<div>\n",
       "<style scoped>\n",
       "    .dataframe tbody tr th:only-of-type {\n",
       "        vertical-align: middle;\n",
       "    }\n",
       "\n",
       "    .dataframe tbody tr th {\n",
       "        vertical-align: top;\n",
       "    }\n",
       "\n",
       "    .dataframe thead th {\n",
       "        text-align: right;\n",
       "    }\n",
       "</style>\n",
       "<table border=\"1\" class=\"dataframe\">\n",
       "  <thead>\n",
       "    <tr style=\"text-align: right;\">\n",
       "      <th></th>\n",
       "      <th>feature</th>\n",
       "      <th>importance</th>\n",
       "    </tr>\n",
       "  </thead>\n",
       "  <tbody>\n",
       "    <tr>\n",
       "      <th>4</th>\n",
       "      <td>Price</td>\n",
       "      <td>0.244012</td>\n",
       "    </tr>\n",
       "    <tr>\n",
       "      <th>5</th>\n",
       "      <td>ShelveLoc</td>\n",
       "      <td>0.154691</td>\n",
       "    </tr>\n",
       "    <tr>\n",
       "      <th>0</th>\n",
       "      <td>CompPrice</td>\n",
       "      <td>0.121457</td>\n",
       "    </tr>\n",
       "    <tr>\n",
       "      <th>6</th>\n",
       "      <td>Age</td>\n",
       "      <td>0.115374</td>\n",
       "    </tr>\n",
       "    <tr>\n",
       "      <th>1</th>\n",
       "      <td>Income</td>\n",
       "      <td>0.102363</td>\n",
       "    </tr>\n",
       "    <tr>\n",
       "      <th>2</th>\n",
       "      <td>Advertising</td>\n",
       "      <td>0.098239</td>\n",
       "    </tr>\n",
       "    <tr>\n",
       "      <th>3</th>\n",
       "      <td>Population</td>\n",
       "      <td>0.083893</td>\n",
       "    </tr>\n",
       "    <tr>\n",
       "      <th>7</th>\n",
       "      <td>Education</td>\n",
       "      <td>0.052627</td>\n",
       "    </tr>\n",
       "    <tr>\n",
       "      <th>9</th>\n",
       "      <td>US</td>\n",
       "      <td>0.014657</td>\n",
       "    </tr>\n",
       "    <tr>\n",
       "      <th>8</th>\n",
       "      <td>Urban</td>\n",
       "      <td>0.012688</td>\n",
       "    </tr>\n",
       "  </tbody>\n",
       "</table>\n",
       "</div>"
      ],
      "text/plain": [
       "       feature  importance\n",
       "4        Price    0.244012\n",
       "5    ShelveLoc    0.154691\n",
       "0    CompPrice    0.121457\n",
       "6          Age    0.115374\n",
       "1       Income    0.102363\n",
       "2  Advertising    0.098239\n",
       "3   Population    0.083893\n",
       "7    Education    0.052627\n",
       "9           US    0.014657\n",
       "8        Urban    0.012688"
      ]
     },
     "execution_count": 54,
     "metadata": {},
     "output_type": "execute_result"
    }
   ],
   "source": [
    "imp = pd.DataFrame({'feature': list(x_train.columns),\n",
    "                   'importance': model.feature_importances_}).\\\n",
    "                    sort_values('importance', ascending = False)\n",
    "imp"
   ]
  },
  {
   "cell_type": "markdown",
   "id": "26d9727a",
   "metadata": {},
   "source": [
    "__From the table above, we can conclude that \"Price\" is the most important feature here.__"
   ]
  }
 ],
 "metadata": {
  "kernelspec": {
   "display_name": "Python 3 (ipykernel)",
   "language": "python",
   "name": "python3"
  },
  "language_info": {
   "codemirror_mode": {
    "name": "ipython",
    "version": 3
   },
   "file_extension": ".py",
   "mimetype": "text/x-python",
   "name": "python",
   "nbconvert_exporter": "python",
   "pygments_lexer": "ipython3",
   "version": "3.9.7"
  }
 },
 "nbformat": 4,
 "nbformat_minor": 5
}
