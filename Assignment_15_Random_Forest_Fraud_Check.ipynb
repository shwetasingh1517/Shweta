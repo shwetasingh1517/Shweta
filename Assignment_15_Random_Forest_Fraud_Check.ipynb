{
 "cells": [
  {
   "cell_type": "markdown",
   "id": "93096a96",
   "metadata": {},
   "source": [
    "## Assignment 15 \n",
    "\n",
    "## Topic : Random_Forest\n"
   ]
  },
  {
   "cell_type": "markdown",
   "id": "4bb44c70",
   "metadata": {},
   "source": [
    "__Q. Use decision trees to prepare a model on fraud data__"
   ]
  },
  {
   "cell_type": "code",
   "execution_count": 1,
   "id": "c80c0a63",
   "metadata": {
    "ExecuteTime": {
     "end_time": "2023-01-03T15:36:25.674176Z",
     "start_time": "2023-01-03T15:36:24.170492Z"
    }
   },
   "outputs": [],
   "source": [
    "# importing necessary packages \n",
    "import pandas as pd\n",
    "import matplotlib.pyplot as plt\n",
    "import numpy as np\n",
    " \n",
    "from sklearn.model_selection import train_test_split\n",
    "from sklearn.tree import  DecisionTreeClassifier,plot_tree\n",
    "from sklearn.ensemble import RandomForestClassifier\n",
    "from sklearn import tree\n",
    "from sklearn.metrics import classification_report,confusion_matrix,f1_score,accuracy_score\n"
   ]
  },
  {
   "cell_type": "code",
   "execution_count": 2,
   "id": "92bd8117",
   "metadata": {
    "ExecuteTime": {
     "end_time": "2023-01-03T15:36:26.455626Z",
     "start_time": "2023-01-03T15:36:26.417227Z"
    }
   },
   "outputs": [
    {
     "data": {
      "text/html": [
       "<div>\n",
       "<style scoped>\n",
       "    .dataframe tbody tr th:only-of-type {\n",
       "        vertical-align: middle;\n",
       "    }\n",
       "\n",
       "    .dataframe tbody tr th {\n",
       "        vertical-align: top;\n",
       "    }\n",
       "\n",
       "    .dataframe thead th {\n",
       "        text-align: right;\n",
       "    }\n",
       "</style>\n",
       "<table border=\"1\" class=\"dataframe\">\n",
       "  <thead>\n",
       "    <tr style=\"text-align: right;\">\n",
       "      <th></th>\n",
       "      <th>Undergrad</th>\n",
       "      <th>Marital.Status</th>\n",
       "      <th>Taxable.Income</th>\n",
       "      <th>City.Population</th>\n",
       "      <th>Work.Experience</th>\n",
       "      <th>Urban</th>\n",
       "    </tr>\n",
       "  </thead>\n",
       "  <tbody>\n",
       "    <tr>\n",
       "      <th>0</th>\n",
       "      <td>NO</td>\n",
       "      <td>Single</td>\n",
       "      <td>68833</td>\n",
       "      <td>50047</td>\n",
       "      <td>10</td>\n",
       "      <td>YES</td>\n",
       "    </tr>\n",
       "    <tr>\n",
       "      <th>1</th>\n",
       "      <td>YES</td>\n",
       "      <td>Divorced</td>\n",
       "      <td>33700</td>\n",
       "      <td>134075</td>\n",
       "      <td>18</td>\n",
       "      <td>YES</td>\n",
       "    </tr>\n",
       "    <tr>\n",
       "      <th>2</th>\n",
       "      <td>NO</td>\n",
       "      <td>Married</td>\n",
       "      <td>36925</td>\n",
       "      <td>160205</td>\n",
       "      <td>30</td>\n",
       "      <td>YES</td>\n",
       "    </tr>\n",
       "    <tr>\n",
       "      <th>3</th>\n",
       "      <td>YES</td>\n",
       "      <td>Single</td>\n",
       "      <td>50190</td>\n",
       "      <td>193264</td>\n",
       "      <td>15</td>\n",
       "      <td>YES</td>\n",
       "    </tr>\n",
       "    <tr>\n",
       "      <th>4</th>\n",
       "      <td>NO</td>\n",
       "      <td>Married</td>\n",
       "      <td>81002</td>\n",
       "      <td>27533</td>\n",
       "      <td>28</td>\n",
       "      <td>NO</td>\n",
       "    </tr>\n",
       "  </tbody>\n",
       "</table>\n",
       "</div>"
      ],
      "text/plain": [
       "  Undergrad Marital.Status  Taxable.Income  City.Population  Work.Experience  \\\n",
       "0        NO         Single           68833            50047               10   \n",
       "1       YES       Divorced           33700           134075               18   \n",
       "2        NO        Married           36925           160205               30   \n",
       "3       YES         Single           50190           193264               15   \n",
       "4        NO        Married           81002            27533               28   \n",
       "\n",
       "  Urban  \n",
       "0   YES  \n",
       "1   YES  \n",
       "2   YES  \n",
       "3   YES  \n",
       "4    NO  "
      ]
     },
     "execution_count": 2,
     "metadata": {},
     "output_type": "execute_result"
    }
   ],
   "source": [
    "# Loadind of data\n",
    "data = pd.read_csv(\"Fraud_check.csv\")\n",
    "data.head()"
   ]
  },
  {
   "cell_type": "code",
   "execution_count": 3,
   "id": "940c957e",
   "metadata": {
    "ExecuteTime": {
     "end_time": "2023-01-03T15:36:27.383047Z",
     "start_time": "2023-01-03T15:36:27.357659Z"
    }
   },
   "outputs": [
    {
     "data": {
      "text/html": [
       "<div>\n",
       "<style scoped>\n",
       "    .dataframe tbody tr th:only-of-type {\n",
       "        vertical-align: middle;\n",
       "    }\n",
       "\n",
       "    .dataframe tbody tr th {\n",
       "        vertical-align: top;\n",
       "    }\n",
       "\n",
       "    .dataframe thead th {\n",
       "        text-align: right;\n",
       "    }\n",
       "</style>\n",
       "<table border=\"1\" class=\"dataframe\">\n",
       "  <thead>\n",
       "    <tr style=\"text-align: right;\">\n",
       "      <th></th>\n",
       "      <th>Undergrad</th>\n",
       "      <th>Maritial_status</th>\n",
       "      <th>Taxable_income</th>\n",
       "      <th>City_population</th>\n",
       "      <th>Work_experience</th>\n",
       "      <th>Urban</th>\n",
       "    </tr>\n",
       "  </thead>\n",
       "  <tbody>\n",
       "    <tr>\n",
       "      <th>0</th>\n",
       "      <td>NO</td>\n",
       "      <td>Single</td>\n",
       "      <td>68833</td>\n",
       "      <td>50047</td>\n",
       "      <td>10</td>\n",
       "      <td>YES</td>\n",
       "    </tr>\n",
       "    <tr>\n",
       "      <th>1</th>\n",
       "      <td>YES</td>\n",
       "      <td>Divorced</td>\n",
       "      <td>33700</td>\n",
       "      <td>134075</td>\n",
       "      <td>18</td>\n",
       "      <td>YES</td>\n",
       "    </tr>\n",
       "    <tr>\n",
       "      <th>2</th>\n",
       "      <td>NO</td>\n",
       "      <td>Married</td>\n",
       "      <td>36925</td>\n",
       "      <td>160205</td>\n",
       "      <td>30</td>\n",
       "      <td>YES</td>\n",
       "    </tr>\n",
       "    <tr>\n",
       "      <th>3</th>\n",
       "      <td>YES</td>\n",
       "      <td>Single</td>\n",
       "      <td>50190</td>\n",
       "      <td>193264</td>\n",
       "      <td>15</td>\n",
       "      <td>YES</td>\n",
       "    </tr>\n",
       "    <tr>\n",
       "      <th>4</th>\n",
       "      <td>NO</td>\n",
       "      <td>Married</td>\n",
       "      <td>81002</td>\n",
       "      <td>27533</td>\n",
       "      <td>28</td>\n",
       "      <td>NO</td>\n",
       "    </tr>\n",
       "  </tbody>\n",
       "</table>\n",
       "</div>"
      ],
      "text/plain": [
       "  Undergrad Maritial_status  Taxable_income  City_population  Work_experience  \\\n",
       "0        NO          Single           68833            50047               10   \n",
       "1       YES        Divorced           33700           134075               18   \n",
       "2        NO         Married           36925           160205               30   \n",
       "3       YES          Single           50190           193264               15   \n",
       "4        NO         Married           81002            27533               28   \n",
       "\n",
       "  Urban  \n",
       "0   YES  \n",
       "1   YES  \n",
       "2   YES  \n",
       "3   YES  \n",
       "4    NO  "
      ]
     },
     "execution_count": 3,
     "metadata": {},
     "output_type": "execute_result"
    }
   ],
   "source": [
    "# Renamning the data\n",
    "data2 = data.rename({'Marital.Status':'Maritial_status','Taxable.Income':'Taxable_income','City.Population':'City_population','Work.Experience':'Work_experience'},axis = 1)\n",
    "data2.head()"
   ]
  },
  {
   "cell_type": "code",
   "execution_count": 4,
   "id": "5f862ec6",
   "metadata": {
    "ExecuteTime": {
     "end_time": "2023-01-03T15:36:31.204606Z",
     "start_time": "2023-01-03T15:36:31.174319Z"
    }
   },
   "outputs": [
    {
     "name": "stdout",
     "output_type": "stream",
     "text": [
      "<class 'pandas.core.frame.DataFrame'>\n",
      "RangeIndex: 600 entries, 0 to 599\n",
      "Data columns (total 6 columns):\n",
      " #   Column           Non-Null Count  Dtype \n",
      "---  ------           --------------  ----- \n",
      " 0   Undergrad        600 non-null    object\n",
      " 1   Maritial_status  600 non-null    object\n",
      " 2   Taxable_income   600 non-null    int64 \n",
      " 3   City_population  600 non-null    int64 \n",
      " 4   Work_experience  600 non-null    int64 \n",
      " 5   Urban            600 non-null    object\n",
      "dtypes: int64(3), object(3)\n",
      "memory usage: 28.2+ KB\n"
     ]
    }
   ],
   "source": [
    "#Checking of null values and data_type\n",
    "data2.info()"
   ]
  },
  {
   "cell_type": "code",
   "execution_count": 5,
   "id": "b43339f1",
   "metadata": {
    "ExecuteTime": {
     "end_time": "2023-01-03T15:36:33.300387Z",
     "start_time": "2023-01-03T15:36:33.275454Z"
    }
   },
   "outputs": [
    {
     "data": {
      "text/html": [
       "<div>\n",
       "<style scoped>\n",
       "    .dataframe tbody tr th:only-of-type {\n",
       "        vertical-align: middle;\n",
       "    }\n",
       "\n",
       "    .dataframe tbody tr th {\n",
       "        vertical-align: top;\n",
       "    }\n",
       "\n",
       "    .dataframe thead th {\n",
       "        text-align: right;\n",
       "    }\n",
       "</style>\n",
       "<table border=\"1\" class=\"dataframe\">\n",
       "  <thead>\n",
       "    <tr style=\"text-align: right;\">\n",
       "      <th></th>\n",
       "      <th>Undergrad</th>\n",
       "      <th>Maritial_status</th>\n",
       "      <th>Taxable_income</th>\n",
       "      <th>City_population</th>\n",
       "      <th>Work_experience</th>\n",
       "      <th>Urban</th>\n",
       "    </tr>\n",
       "  </thead>\n",
       "  <tbody>\n",
       "    <tr>\n",
       "      <th>0</th>\n",
       "      <td>0</td>\n",
       "      <td>1</td>\n",
       "      <td>68833</td>\n",
       "      <td>50047</td>\n",
       "      <td>10</td>\n",
       "      <td>1</td>\n",
       "    </tr>\n",
       "    <tr>\n",
       "      <th>1</th>\n",
       "      <td>1</td>\n",
       "      <td>0</td>\n",
       "      <td>33700</td>\n",
       "      <td>134075</td>\n",
       "      <td>18</td>\n",
       "      <td>1</td>\n",
       "    </tr>\n",
       "    <tr>\n",
       "      <th>2</th>\n",
       "      <td>0</td>\n",
       "      <td>2</td>\n",
       "      <td>36925</td>\n",
       "      <td>160205</td>\n",
       "      <td>30</td>\n",
       "      <td>1</td>\n",
       "    </tr>\n",
       "    <tr>\n",
       "      <th>3</th>\n",
       "      <td>1</td>\n",
       "      <td>1</td>\n",
       "      <td>50190</td>\n",
       "      <td>193264</td>\n",
       "      <td>15</td>\n",
       "      <td>1</td>\n",
       "    </tr>\n",
       "    <tr>\n",
       "      <th>4</th>\n",
       "      <td>0</td>\n",
       "      <td>2</td>\n",
       "      <td>81002</td>\n",
       "      <td>27533</td>\n",
       "      <td>28</td>\n",
       "      <td>0</td>\n",
       "    </tr>\n",
       "  </tbody>\n",
       "</table>\n",
       "</div>"
      ],
      "text/plain": [
       "   Undergrad  Maritial_status  Taxable_income  City_population  \\\n",
       "0          0                1           68833            50047   \n",
       "1          1                0           33700           134075   \n",
       "2          0                2           36925           160205   \n",
       "3          1                1           50190           193264   \n",
       "4          0                2           81002            27533   \n",
       "\n",
       "   Work_experience  Urban  \n",
       "0               10      1  \n",
       "1               18      1  \n",
       "2               30      1  \n",
       "3               15      1  \n",
       "4               28      0  "
      ]
     },
     "execution_count": 5,
     "metadata": {},
     "output_type": "execute_result"
    }
   ],
   "source": [
    "# using one_hot encoding\n",
    "data2['Undergrad'] = data2['Undergrad'].map({'NO':0,'YES':1})\n",
    "data2['Maritial_status'] = data2['Maritial_status'].map({'Single':1,'Divorced':0,'Married':2})\n",
    "data2['Urban'] = data2['Urban'].map({'YES':1,'NO':0})\n",
    "data2.head()"
   ]
  },
  {
   "cell_type": "code",
   "execution_count": 6,
   "id": "eb0629c3",
   "metadata": {
    "ExecuteTime": {
     "end_time": "2023-01-03T15:36:35.311726Z",
     "start_time": "2023-01-03T15:36:35.300297Z"
    }
   },
   "outputs": [],
   "source": [
    "# COnverting numeric data to catogerical data as mentioned in the problem statement\n",
    "\n",
    "data2[\"taxable_income\"]=\"GOOD\"\n",
    "data2.loc[data2[\"Taxable_income\"]<=30000,\"taxable_income\"]=\"Risky\"\n",
    "data2.drop(['Taxable_income'],axis = 1,inplace = True)"
   ]
  },
  {
   "cell_type": "code",
   "execution_count": 7,
   "id": "47afcb61",
   "metadata": {
    "ExecuteTime": {
     "end_time": "2023-01-03T15:36:38.150217Z",
     "start_time": "2023-01-03T15:36:38.132915Z"
    }
   },
   "outputs": [
    {
     "data": {
      "text/html": [
       "<div>\n",
       "<style scoped>\n",
       "    .dataframe tbody tr th:only-of-type {\n",
       "        vertical-align: middle;\n",
       "    }\n",
       "\n",
       "    .dataframe tbody tr th {\n",
       "        vertical-align: top;\n",
       "    }\n",
       "\n",
       "    .dataframe thead th {\n",
       "        text-align: right;\n",
       "    }\n",
       "</style>\n",
       "<table border=\"1\" class=\"dataframe\">\n",
       "  <thead>\n",
       "    <tr style=\"text-align: right;\">\n",
       "      <th></th>\n",
       "      <th>Undergrad</th>\n",
       "      <th>Maritial_status</th>\n",
       "      <th>City_population</th>\n",
       "      <th>Work_experience</th>\n",
       "      <th>Urban</th>\n",
       "      <th>taxable_income</th>\n",
       "    </tr>\n",
       "  </thead>\n",
       "  <tbody>\n",
       "    <tr>\n",
       "      <th>0</th>\n",
       "      <td>0</td>\n",
       "      <td>1</td>\n",
       "      <td>50047</td>\n",
       "      <td>10</td>\n",
       "      <td>1</td>\n",
       "      <td>GOOD</td>\n",
       "    </tr>\n",
       "    <tr>\n",
       "      <th>1</th>\n",
       "      <td>1</td>\n",
       "      <td>0</td>\n",
       "      <td>134075</td>\n",
       "      <td>18</td>\n",
       "      <td>1</td>\n",
       "      <td>GOOD</td>\n",
       "    </tr>\n",
       "    <tr>\n",
       "      <th>2</th>\n",
       "      <td>0</td>\n",
       "      <td>2</td>\n",
       "      <td>160205</td>\n",
       "      <td>30</td>\n",
       "      <td>1</td>\n",
       "      <td>GOOD</td>\n",
       "    </tr>\n",
       "    <tr>\n",
       "      <th>3</th>\n",
       "      <td>1</td>\n",
       "      <td>1</td>\n",
       "      <td>193264</td>\n",
       "      <td>15</td>\n",
       "      <td>1</td>\n",
       "      <td>GOOD</td>\n",
       "    </tr>\n",
       "    <tr>\n",
       "      <th>4</th>\n",
       "      <td>0</td>\n",
       "      <td>2</td>\n",
       "      <td>27533</td>\n",
       "      <td>28</td>\n",
       "      <td>0</td>\n",
       "      <td>GOOD</td>\n",
       "    </tr>\n",
       "    <tr>\n",
       "      <th>...</th>\n",
       "      <td>...</td>\n",
       "      <td>...</td>\n",
       "      <td>...</td>\n",
       "      <td>...</td>\n",
       "      <td>...</td>\n",
       "      <td>...</td>\n",
       "    </tr>\n",
       "    <tr>\n",
       "      <th>595</th>\n",
       "      <td>1</td>\n",
       "      <td>0</td>\n",
       "      <td>39492</td>\n",
       "      <td>7</td>\n",
       "      <td>1</td>\n",
       "      <td>GOOD</td>\n",
       "    </tr>\n",
       "    <tr>\n",
       "      <th>596</th>\n",
       "      <td>1</td>\n",
       "      <td>0</td>\n",
       "      <td>55369</td>\n",
       "      <td>2</td>\n",
       "      <td>1</td>\n",
       "      <td>GOOD</td>\n",
       "    </tr>\n",
       "    <tr>\n",
       "      <th>597</th>\n",
       "      <td>0</td>\n",
       "      <td>0</td>\n",
       "      <td>154058</td>\n",
       "      <td>0</td>\n",
       "      <td>1</td>\n",
       "      <td>GOOD</td>\n",
       "    </tr>\n",
       "    <tr>\n",
       "      <th>598</th>\n",
       "      <td>1</td>\n",
       "      <td>2</td>\n",
       "      <td>180083</td>\n",
       "      <td>17</td>\n",
       "      <td>0</td>\n",
       "      <td>GOOD</td>\n",
       "    </tr>\n",
       "    <tr>\n",
       "      <th>599</th>\n",
       "      <td>0</td>\n",
       "      <td>0</td>\n",
       "      <td>158137</td>\n",
       "      <td>16</td>\n",
       "      <td>0</td>\n",
       "      <td>GOOD</td>\n",
       "    </tr>\n",
       "  </tbody>\n",
       "</table>\n",
       "<p>476 rows × 6 columns</p>\n",
       "</div>"
      ],
      "text/plain": [
       "     Undergrad  Maritial_status  City_population  Work_experience  Urban  \\\n",
       "0            0                1            50047               10      1   \n",
       "1            1                0           134075               18      1   \n",
       "2            0                2           160205               30      1   \n",
       "3            1                1           193264               15      1   \n",
       "4            0                2            27533               28      0   \n",
       "..         ...              ...              ...              ...    ...   \n",
       "595          1                0            39492                7      1   \n",
       "596          1                0            55369                2      1   \n",
       "597          0                0           154058                0      1   \n",
       "598          1                2           180083               17      0   \n",
       "599          0                0           158137               16      0   \n",
       "\n",
       "    taxable_income  \n",
       "0             GOOD  \n",
       "1             GOOD  \n",
       "2             GOOD  \n",
       "3             GOOD  \n",
       "4             GOOD  \n",
       "..             ...  \n",
       "595           GOOD  \n",
       "596           GOOD  \n",
       "597           GOOD  \n",
       "598           GOOD  \n",
       "599           GOOD  \n",
       "\n",
       "[476 rows x 6 columns]"
      ]
     },
     "execution_count": 7,
     "metadata": {},
     "output_type": "execute_result"
    }
   ],
   "source": [
    "# cheking if column is converted or not\n",
    "data2[data2.taxable_income == 'GOOD']"
   ]
  },
  {
   "cell_type": "code",
   "execution_count": 8,
   "id": "f23b5ad3",
   "metadata": {
    "ExecuteTime": {
     "end_time": "2023-01-03T15:36:40.321883Z",
     "start_time": "2023-01-03T15:36:40.296336Z"
    }
   },
   "outputs": [
    {
     "data": {
      "text/html": [
       "<div>\n",
       "<style scoped>\n",
       "    .dataframe tbody tr th:only-of-type {\n",
       "        vertical-align: middle;\n",
       "    }\n",
       "\n",
       "    .dataframe tbody tr th {\n",
       "        vertical-align: top;\n",
       "    }\n",
       "\n",
       "    .dataframe thead th {\n",
       "        text-align: right;\n",
       "    }\n",
       "</style>\n",
       "<table border=\"1\" class=\"dataframe\">\n",
       "  <thead>\n",
       "    <tr style=\"text-align: right;\">\n",
       "      <th></th>\n",
       "      <th>Undergrad</th>\n",
       "      <th>Maritial_status</th>\n",
       "      <th>City_population</th>\n",
       "      <th>Work_experience</th>\n",
       "      <th>Urban</th>\n",
       "      <th>taxable_income</th>\n",
       "    </tr>\n",
       "  </thead>\n",
       "  <tbody>\n",
       "    <tr>\n",
       "      <th>10</th>\n",
       "      <td>0</td>\n",
       "      <td>1</td>\n",
       "      <td>102602</td>\n",
       "      <td>19</td>\n",
       "      <td>1</td>\n",
       "      <td>Risky</td>\n",
       "    </tr>\n",
       "    <tr>\n",
       "      <th>12</th>\n",
       "      <td>0</td>\n",
       "      <td>0</td>\n",
       "      <td>148033</td>\n",
       "      <td>14</td>\n",
       "      <td>1</td>\n",
       "      <td>Risky</td>\n",
       "    </tr>\n",
       "    <tr>\n",
       "      <th>16</th>\n",
       "      <td>1</td>\n",
       "      <td>0</td>\n",
       "      <td>34551</td>\n",
       "      <td>29</td>\n",
       "      <td>0</td>\n",
       "      <td>Risky</td>\n",
       "    </tr>\n",
       "    <tr>\n",
       "      <th>19</th>\n",
       "      <td>0</td>\n",
       "      <td>1</td>\n",
       "      <td>126953</td>\n",
       "      <td>30</td>\n",
       "      <td>1</td>\n",
       "      <td>Risky</td>\n",
       "    </tr>\n",
       "    <tr>\n",
       "      <th>21</th>\n",
       "      <td>1</td>\n",
       "      <td>0</td>\n",
       "      <td>29106</td>\n",
       "      <td>7</td>\n",
       "      <td>1</td>\n",
       "      <td>Risky</td>\n",
       "    </tr>\n",
       "    <tr>\n",
       "      <th>...</th>\n",
       "      <td>...</td>\n",
       "      <td>...</td>\n",
       "      <td>...</td>\n",
       "      <td>...</td>\n",
       "      <td>...</td>\n",
       "      <td>...</td>\n",
       "    </tr>\n",
       "    <tr>\n",
       "      <th>544</th>\n",
       "      <td>0</td>\n",
       "      <td>1</td>\n",
       "      <td>133877</td>\n",
       "      <td>21</td>\n",
       "      <td>1</td>\n",
       "      <td>Risky</td>\n",
       "    </tr>\n",
       "    <tr>\n",
       "      <th>557</th>\n",
       "      <td>1</td>\n",
       "      <td>2</td>\n",
       "      <td>157421</td>\n",
       "      <td>10</td>\n",
       "      <td>0</td>\n",
       "      <td>Risky</td>\n",
       "    </tr>\n",
       "    <tr>\n",
       "      <th>567</th>\n",
       "      <td>1</td>\n",
       "      <td>1</td>\n",
       "      <td>129912</td>\n",
       "      <td>30</td>\n",
       "      <td>0</td>\n",
       "      <td>Risky</td>\n",
       "    </tr>\n",
       "    <tr>\n",
       "      <th>575</th>\n",
       "      <td>0</td>\n",
       "      <td>0</td>\n",
       "      <td>95975</td>\n",
       "      <td>13</td>\n",
       "      <td>1</td>\n",
       "      <td>Risky</td>\n",
       "    </tr>\n",
       "    <tr>\n",
       "      <th>591</th>\n",
       "      <td>1</td>\n",
       "      <td>1</td>\n",
       "      <td>132859</td>\n",
       "      <td>18</td>\n",
       "      <td>1</td>\n",
       "      <td>Risky</td>\n",
       "    </tr>\n",
       "  </tbody>\n",
       "</table>\n",
       "<p>124 rows × 6 columns</p>\n",
       "</div>"
      ],
      "text/plain": [
       "     Undergrad  Maritial_status  City_population  Work_experience  Urban  \\\n",
       "10           0                1           102602               19      1   \n",
       "12           0                0           148033               14      1   \n",
       "16           1                0            34551               29      0   \n",
       "19           0                1           126953               30      1   \n",
       "21           1                0            29106                7      1   \n",
       "..         ...              ...              ...              ...    ...   \n",
       "544          0                1           133877               21      1   \n",
       "557          1                2           157421               10      0   \n",
       "567          1                1           129912               30      0   \n",
       "575          0                0            95975               13      1   \n",
       "591          1                1           132859               18      1   \n",
       "\n",
       "    taxable_income  \n",
       "10           Risky  \n",
       "12           Risky  \n",
       "16           Risky  \n",
       "19           Risky  \n",
       "21           Risky  \n",
       "..             ...  \n",
       "544          Risky  \n",
       "557          Risky  \n",
       "567          Risky  \n",
       "575          Risky  \n",
       "591          Risky  \n",
       "\n",
       "[124 rows x 6 columns]"
      ]
     },
     "execution_count": 8,
     "metadata": {},
     "output_type": "execute_result"
    }
   ],
   "source": [
    "# cheking if data is converted or not\n",
    "data2[data2.taxable_income == 'Risky']"
   ]
  },
  {
   "cell_type": "code",
   "execution_count": 10,
   "id": "600858d6",
   "metadata": {
    "ExecuteTime": {
     "end_time": "2023-01-03T15:36:45.159211Z",
     "start_time": "2023-01-03T15:36:45.150177Z"
    }
   },
   "outputs": [],
   "source": [
    "# spliting the data into train and test \n",
    "\n",
    "x = data2.iloc[:,0:5]\n",
    "y = data2.iloc[:,5]\n",
    "x_train,x_test,y_train,y_test = train_test_split(x,y,test_size = 0.3, random_state = 40)"
   ]
  },
  {
   "cell_type": "code",
   "execution_count": 31,
   "id": "1015dc93",
   "metadata": {
    "ExecuteTime": {
     "end_time": "2023-01-03T15:39:27.477075Z",
     "start_time": "2023-01-03T15:39:27.344295Z"
    }
   },
   "outputs": [
    {
     "data": {
      "text/html": [
       "<style>#sk-container-id-3 {color: black;background-color: white;}#sk-container-id-3 pre{padding: 0;}#sk-container-id-3 div.sk-toggleable {background-color: white;}#sk-container-id-3 label.sk-toggleable__label {cursor: pointer;display: block;width: 100%;margin-bottom: 0;padding: 0.3em;box-sizing: border-box;text-align: center;}#sk-container-id-3 label.sk-toggleable__label-arrow:before {content: \"▸\";float: left;margin-right: 0.25em;color: #696969;}#sk-container-id-3 label.sk-toggleable__label-arrow:hover:before {color: black;}#sk-container-id-3 div.sk-estimator:hover label.sk-toggleable__label-arrow:before {color: black;}#sk-container-id-3 div.sk-toggleable__content {max-height: 0;max-width: 0;overflow: hidden;text-align: left;background-color: #f0f8ff;}#sk-container-id-3 div.sk-toggleable__content pre {margin: 0.2em;color: black;border-radius: 0.25em;background-color: #f0f8ff;}#sk-container-id-3 input.sk-toggleable__control:checked~div.sk-toggleable__content {max-height: 200px;max-width: 100%;overflow: auto;}#sk-container-id-3 input.sk-toggleable__control:checked~label.sk-toggleable__label-arrow:before {content: \"▾\";}#sk-container-id-3 div.sk-estimator input.sk-toggleable__control:checked~label.sk-toggleable__label {background-color: #d4ebff;}#sk-container-id-3 div.sk-label input.sk-toggleable__control:checked~label.sk-toggleable__label {background-color: #d4ebff;}#sk-container-id-3 input.sk-hidden--visually {border: 0;clip: rect(1px 1px 1px 1px);clip: rect(1px, 1px, 1px, 1px);height: 1px;margin: -1px;overflow: hidden;padding: 0;position: absolute;width: 1px;}#sk-container-id-3 div.sk-estimator {font-family: monospace;background-color: #f0f8ff;border: 1px dotted black;border-radius: 0.25em;box-sizing: border-box;margin-bottom: 0.5em;}#sk-container-id-3 div.sk-estimator:hover {background-color: #d4ebff;}#sk-container-id-3 div.sk-parallel-item::after {content: \"\";width: 100%;border-bottom: 1px solid gray;flex-grow: 1;}#sk-container-id-3 div.sk-label:hover label.sk-toggleable__label {background-color: #d4ebff;}#sk-container-id-3 div.sk-serial::before {content: \"\";position: absolute;border-left: 1px solid gray;box-sizing: border-box;top: 0;bottom: 0;left: 50%;z-index: 0;}#sk-container-id-3 div.sk-serial {display: flex;flex-direction: column;align-items: center;background-color: white;padding-right: 0.2em;padding-left: 0.2em;position: relative;}#sk-container-id-3 div.sk-item {position: relative;z-index: 1;}#sk-container-id-3 div.sk-parallel {display: flex;align-items: stretch;justify-content: center;background-color: white;position: relative;}#sk-container-id-3 div.sk-item::before, #sk-container-id-3 div.sk-parallel-item::before {content: \"\";position: absolute;border-left: 1px solid gray;box-sizing: border-box;top: 0;bottom: 0;left: 50%;z-index: -1;}#sk-container-id-3 div.sk-parallel-item {display: flex;flex-direction: column;z-index: 1;position: relative;background-color: white;}#sk-container-id-3 div.sk-parallel-item:first-child::after {align-self: flex-end;width: 50%;}#sk-container-id-3 div.sk-parallel-item:last-child::after {align-self: flex-start;width: 50%;}#sk-container-id-3 div.sk-parallel-item:only-child::after {width: 0;}#sk-container-id-3 div.sk-dashed-wrapped {border: 1px dashed gray;margin: 0 0.4em 0.5em 0.4em;box-sizing: border-box;padding-bottom: 0.4em;background-color: white;}#sk-container-id-3 div.sk-label label {font-family: monospace;font-weight: bold;display: inline-block;line-height: 1.2em;}#sk-container-id-3 div.sk-label-container {text-align: center;}#sk-container-id-3 div.sk-container {/* jupyter's `normalize.less` sets `[hidden] { display: none; }` but bootstrap.min.css set `[hidden] { display: none !important; }` so we also need the `!important` here to be able to override the default hidden behavior on the sphinx rendered scikit-learn.org. See: https://github.com/scikit-learn/scikit-learn/issues/21755 */display: inline-block !important;position: relative;}#sk-container-id-3 div.sk-text-repr-fallback {display: none;}</style><div id=\"sk-container-id-3\" class=\"sk-top-container\"><div class=\"sk-text-repr-fallback\"><pre>RandomForestClassifier(max_features=3)</pre><b>In a Jupyter environment, please rerun this cell to show the HTML representation or trust the notebook. <br />On GitHub, the HTML representation is unable to render, please try loading this page with nbviewer.org.</b></div><div class=\"sk-container\" hidden><div class=\"sk-item\"><div class=\"sk-estimator sk-toggleable\"><input class=\"sk-toggleable__control sk-hidden--visually\" id=\"sk-estimator-id-3\" type=\"checkbox\" checked><label for=\"sk-estimator-id-3\" class=\"sk-toggleable__label sk-toggleable__label-arrow\">RandomForestClassifier</label><div class=\"sk-toggleable__content\"><pre>RandomForestClassifier(max_features=3)</pre></div></div></div></div></div>"
      ],
      "text/plain": [
       "RandomForestClassifier(max_features=3)"
      ]
     },
     "execution_count": 31,
     "metadata": {},
     "output_type": "execute_result"
    }
   ],
   "source": [
    "# model building\n",
    "\n",
    "modelDT = RandomForestClassifier(n_estimators=100,max_features=3)\n",
    "modelDT.fit(x_train,y_train)"
   ]
  },
  {
   "cell_type": "code",
   "execution_count": 32,
   "id": "f53fb287",
   "metadata": {
    "ExecuteTime": {
     "end_time": "2023-01-03T15:39:33.301206Z",
     "start_time": "2023-01-03T15:39:27.569695Z"
    }
   },
   "outputs": [
    {
     "data": {
      "text/plain": [
       "[Text(0.2522916666666667, 0.9736842105263158, 'X[2] <= 60294.5\\ngini = 0.32\\nsamples = 266\\nvalue = [336, 84]'),\n",
       " Text(0.08666666666666667, 0.9210526315789473, 'X[2] <= 27173.5\\ngini = 0.15\\nsamples = 59\\nvalue = [90, 8]'),\n",
       " Text(0.06, 0.868421052631579, 'X[3] <= 12.5\\ngini = 0.444\\nsamples = 2\\nvalue = [1, 2]'),\n",
       " Text(0.04666666666666667, 0.8157894736842105, 'gini = 0.0\\nsamples = 1\\nvalue = [0, 2]'),\n",
       " Text(0.07333333333333333, 0.8157894736842105, 'gini = 0.0\\nsamples = 1\\nvalue = [1, 0]'),\n",
       " Text(0.11333333333333333, 0.868421052631579, 'X[3] <= 19.5\\ngini = 0.118\\nsamples = 57\\nvalue = [89, 6]'),\n",
       " Text(0.1, 0.8157894736842105, 'X[2] <= 37402.5\\ngini = 0.191\\nsamples = 34\\nvalue = [50, 6]'),\n",
       " Text(0.06666666666666667, 0.7631578947368421, 'X[2] <= 36940.0\\ngini = 0.363\\nsamples = 13\\nvalue = [16, 5]'),\n",
       " Text(0.05333333333333334, 0.7105263157894737, 'X[1] <= 0.5\\ngini = 0.266\\nsamples = 12\\nvalue = [16, 3]'),\n",
       " Text(0.02666666666666667, 0.6578947368421053, 'X[3] <= 6.5\\ngini = 0.444\\nsamples = 2\\nvalue = [1, 2]'),\n",
       " Text(0.013333333333333334, 0.6052631578947368, 'gini = 0.0\\nsamples = 1\\nvalue = [1, 0]'),\n",
       " Text(0.04, 0.6052631578947368, 'gini = 0.0\\nsamples = 1\\nvalue = [0, 2]'),\n",
       " Text(0.08, 0.6578947368421053, 'X[3] <= 16.5\\ngini = 0.117\\nsamples = 10\\nvalue = [15, 1]'),\n",
       " Text(0.06666666666666667, 0.6052631578947368, 'gini = 0.0\\nsamples = 8\\nvalue = [12, 0]'),\n",
       " Text(0.09333333333333334, 0.6052631578947368, 'X[2] <= 30125.5\\ngini = 0.375\\nsamples = 2\\nvalue = [3, 1]'),\n",
       " Text(0.08, 0.5526315789473685, 'gini = 0.0\\nsamples = 1\\nvalue = [3, 0]'),\n",
       " Text(0.10666666666666667, 0.5526315789473685, 'gini = 0.0\\nsamples = 1\\nvalue = [0, 1]'),\n",
       " Text(0.08, 0.7105263157894737, 'gini = 0.0\\nsamples = 1\\nvalue = [0, 2]'),\n",
       " Text(0.13333333333333333, 0.7631578947368421, 'X[3] <= 18.5\\ngini = 0.056\\nsamples = 21\\nvalue = [34, 1]'),\n",
       " Text(0.12, 0.7105263157894737, 'gini = 0.0\\nsamples = 17\\nvalue = [30, 0]'),\n",
       " Text(0.14666666666666667, 0.7105263157894737, 'X[0] <= 0.5\\ngini = 0.32\\nsamples = 4\\nvalue = [4, 1]'),\n",
       " Text(0.13333333333333333, 0.6578947368421053, 'X[1] <= 1.0\\ngini = 0.444\\nsamples = 3\\nvalue = [2, 1]'),\n",
       " Text(0.12, 0.6052631578947368, 'gini = 0.0\\nsamples = 1\\nvalue = [0, 1]'),\n",
       " Text(0.14666666666666667, 0.6052631578947368, 'gini = 0.0\\nsamples = 2\\nvalue = [2, 0]'),\n",
       " Text(0.16, 0.6578947368421053, 'gini = 0.0\\nsamples = 1\\nvalue = [2, 0]'),\n",
       " Text(0.12666666666666668, 0.8157894736842105, 'gini = 0.0\\nsamples = 23\\nvalue = [39, 0]'),\n",
       " Text(0.41791666666666666, 0.9210526315789473, 'X[2] <= 64532.5\\ngini = 0.361\\nsamples = 207\\nvalue = [246, 76]'),\n",
       " Text(0.27666666666666667, 0.868421052631579, 'X[0] <= 0.5\\ngini = 0.469\\nsamples = 5\\nvalue = [3, 5]'),\n",
       " Text(0.2633333333333333, 0.8157894736842105, 'X[3] <= 6.0\\ngini = 0.375\\nsamples = 3\\nvalue = [3, 1]'),\n",
       " Text(0.25, 0.7631578947368421, 'gini = 0.0\\nsamples = 1\\nvalue = [0, 1]'),\n",
       " Text(0.27666666666666667, 0.7631578947368421, 'gini = 0.0\\nsamples = 2\\nvalue = [3, 0]'),\n",
       " Text(0.29, 0.8157894736842105, 'gini = 0.0\\nsamples = 2\\nvalue = [0, 4]'),\n",
       " Text(0.5591666666666667, 0.868421052631579, 'X[4] <= 0.5\\ngini = 0.35\\nsamples = 202\\nvalue = [243, 71]'),\n",
       " Text(0.38166666666666665, 0.8157894736842105, 'X[2] <= 178829.0\\ngini = 0.284\\nsamples = 108\\nvalue = [140, 29]'),\n",
       " Text(0.30333333333333334, 0.7631578947368421, 'X[3] <= 9.5\\ngini = 0.312\\nsamples = 90\\nvalue = [117, 28]'),\n",
       " Text(0.21333333333333335, 0.7105263157894737, 'X[0] <= 0.5\\ngini = 0.139\\nsamples = 26\\nvalue = [37, 3]'),\n",
       " Text(0.18666666666666668, 0.6578947368421053, 'X[2] <= 129270.5\\ngini = 0.278\\nsamples = 8\\nvalue = [10, 2]'),\n",
       " Text(0.17333333333333334, 0.6052631578947368, 'gini = 0.0\\nsamples = 6\\nvalue = [10, 0]'),\n",
       " Text(0.2, 0.6052631578947368, 'gini = 0.0\\nsamples = 2\\nvalue = [0, 2]'),\n",
       " Text(0.24, 0.6578947368421053, 'X[2] <= 110984.5\\ngini = 0.069\\nsamples = 18\\nvalue = [27, 1]'),\n",
       " Text(0.22666666666666666, 0.6052631578947368, 'X[1] <= 0.5\\ngini = 0.219\\nsamples = 5\\nvalue = [7, 1]'),\n",
       " Text(0.21333333333333335, 0.5526315789473685, 'X[2] <= 102038.0\\ngini = 0.375\\nsamples = 3\\nvalue = [3, 1]'),\n",
       " Text(0.2, 0.5, 'gini = 0.0\\nsamples = 2\\nvalue = [3, 0]'),\n",
       " Text(0.22666666666666666, 0.5, 'gini = 0.0\\nsamples = 1\\nvalue = [0, 1]'),\n",
       " Text(0.24, 0.5526315789473685, 'gini = 0.0\\nsamples = 2\\nvalue = [4, 0]'),\n",
       " Text(0.25333333333333335, 0.6052631578947368, 'gini = 0.0\\nsamples = 13\\nvalue = [20, 0]'),\n",
       " Text(0.3933333333333333, 0.7105263157894737, 'X[3] <= 29.5\\ngini = 0.363\\nsamples = 64\\nvalue = [80, 25]'),\n",
       " Text(0.38, 0.6578947368421053, 'X[1] <= 1.5\\ngini = 0.38\\nsamples = 61\\nvalue = [73, 25]'),\n",
       " Text(0.30666666666666664, 0.6052631578947368, 'X[3] <= 21.5\\ngini = 0.342\\nsamples = 42\\nvalue = [50, 14]'),\n",
       " Text(0.26666666666666666, 0.5526315789473685, 'X[2] <= 173783.0\\ngini = 0.414\\nsamples = 28\\nvalue = [29, 12]'),\n",
       " Text(0.25333333333333335, 0.5, 'X[2] <= 82708.5\\ngini = 0.381\\nsamples = 27\\nvalue = [29, 10]'),\n",
       " Text(0.22666666666666666, 0.4473684210526316, 'X[2] <= 74597.0\\ngini = 0.48\\nsamples = 4\\nvalue = [2, 3]'),\n",
       " Text(0.21333333333333335, 0.39473684210526316, 'gini = 0.0\\nsamples = 2\\nvalue = [2, 0]'),\n",
       " Text(0.24, 0.39473684210526316, 'gini = 0.0\\nsamples = 2\\nvalue = [0, 3]'),\n",
       " Text(0.28, 0.4473684210526316, 'X[2] <= 153289.0\\ngini = 0.327\\nsamples = 23\\nvalue = [27, 7]'),\n",
       " Text(0.26666666666666666, 0.39473684210526316, 'X[3] <= 16.5\\ngini = 0.384\\nsamples = 19\\nvalue = [20, 7]'),\n",
       " Text(0.22666666666666666, 0.34210526315789475, 'X[1] <= 0.5\\ngini = 0.266\\nsamples = 12\\nvalue = [16, 3]'),\n",
       " Text(0.21333333333333335, 0.2894736842105263, 'gini = 0.0\\nsamples = 5\\nvalue = [12, 0]'),\n",
       " Text(0.24, 0.2894736842105263, 'X[3] <= 15.5\\ngini = 0.49\\nsamples = 7\\nvalue = [4, 3]'),\n",
       " Text(0.22666666666666666, 0.23684210526315788, 'X[3] <= 14.0\\ngini = 0.444\\nsamples = 6\\nvalue = [4, 2]'),\n",
       " Text(0.21333333333333335, 0.18421052631578946, 'X[2] <= 116393.0\\ngini = 0.48\\nsamples = 5\\nvalue = [3, 2]'),\n",
       " Text(0.2, 0.13157894736842105, 'X[3] <= 11.5\\ngini = 0.444\\nsamples = 3\\nvalue = [1, 2]'),\n",
       " Text(0.18666666666666668, 0.07894736842105263, 'X[0] <= 0.5\\ngini = 0.5\\nsamples = 2\\nvalue = [1, 1]'),\n",
       " Text(0.17333333333333334, 0.02631578947368421, 'gini = 0.0\\nsamples = 1\\nvalue = [1, 0]'),\n",
       " Text(0.2, 0.02631578947368421, 'gini = 0.0\\nsamples = 1\\nvalue = [0, 1]'),\n",
       " Text(0.21333333333333335, 0.07894736842105263, 'gini = 0.0\\nsamples = 1\\nvalue = [0, 1]'),\n",
       " Text(0.22666666666666666, 0.13157894736842105, 'gini = 0.0\\nsamples = 2\\nvalue = [2, 0]'),\n",
       " Text(0.24, 0.18421052631578946, 'gini = 0.0\\nsamples = 1\\nvalue = [1, 0]'),\n",
       " Text(0.25333333333333335, 0.23684210526315788, 'gini = 0.0\\nsamples = 1\\nvalue = [0, 1]'),\n",
       " Text(0.30666666666666664, 0.34210526315789475, 'X[2] <= 149214.0\\ngini = 0.5\\nsamples = 7\\nvalue = [4, 4]'),\n",
       " Text(0.29333333333333333, 0.2894736842105263, 'X[1] <= 0.5\\ngini = 0.444\\nsamples = 6\\nvalue = [4, 2]'),\n",
       " Text(0.28, 0.23684210526315788, 'X[0] <= 0.5\\ngini = 0.5\\nsamples = 4\\nvalue = [2, 2]'),\n",
       " Text(0.26666666666666666, 0.18421052631578946, 'X[2] <= 123887.5\\ngini = 0.444\\nsamples = 3\\nvalue = [2, 1]'),\n",
       " Text(0.25333333333333335, 0.13157894736842105, 'gini = 0.0\\nsamples = 1\\nvalue = [0, 1]'),\n",
       " Text(0.28, 0.13157894736842105, 'gini = 0.0\\nsamples = 2\\nvalue = [2, 0]'),\n",
       " Text(0.29333333333333333, 0.18421052631578946, 'gini = 0.0\\nsamples = 1\\nvalue = [0, 1]'),\n",
       " Text(0.30666666666666664, 0.23684210526315788, 'gini = 0.0\\nsamples = 2\\nvalue = [2, 0]'),\n",
       " Text(0.32, 0.2894736842105263, 'gini = 0.0\\nsamples = 1\\nvalue = [0, 2]'),\n",
       " Text(0.29333333333333333, 0.39473684210526316, 'gini = 0.0\\nsamples = 4\\nvalue = [7, 0]'),\n",
       " Text(0.28, 0.5, 'gini = 0.0\\nsamples = 1\\nvalue = [0, 2]'),\n",
       " Text(0.3466666666666667, 0.5526315789473685, 'X[3] <= 27.5\\ngini = 0.159\\nsamples = 14\\nvalue = [21, 2]'),\n",
       " Text(0.32, 0.5, 'X[2] <= 104735.5\\ngini = 0.1\\nsamples = 11\\nvalue = [18, 1]'),\n",
       " Text(0.30666666666666664, 0.4473684210526316, 'gini = 0.0\\nsamples = 6\\nvalue = [11, 0]'),\n",
       " Text(0.3333333333333333, 0.4473684210526316, 'X[3] <= 24.0\\ngini = 0.219\\nsamples = 5\\nvalue = [7, 1]'),\n",
       " Text(0.32, 0.39473684210526316, 'gini = 0.0\\nsamples = 1\\nvalue = [0, 1]'),\n",
       " Text(0.3466666666666667, 0.39473684210526316, 'gini = 0.0\\nsamples = 4\\nvalue = [7, 0]'),\n",
       " Text(0.37333333333333335, 0.5, 'X[2] <= 79020.5\\ngini = 0.375\\nsamples = 3\\nvalue = [3, 1]'),\n",
       " Text(0.36, 0.4473684210526316, 'gini = 0.0\\nsamples = 1\\nvalue = [0, 1]'),\n",
       " Text(0.38666666666666666, 0.4473684210526316, 'gini = 0.0\\nsamples = 2\\nvalue = [3, 0]'),\n",
       " Text(0.4533333333333333, 0.6052631578947368, 'X[3] <= 25.0\\ngini = 0.438\\nsamples = 19\\nvalue = [23, 11]'),\n",
       " Text(0.41333333333333333, 0.5526315789473685, 'X[3] <= 11.0\\ngini = 0.311\\nsamples = 14\\nvalue = [21, 5]'),\n",
       " Text(0.4, 0.5, 'gini = 0.0\\nsamples = 1\\nvalue = [0, 2]'),\n",
       " Text(0.4266666666666667, 0.5, 'X[3] <= 13.0\\ngini = 0.219\\nsamples = 13\\nvalue = [21, 3]'),\n",
       " Text(0.41333333333333333, 0.4473684210526316, 'gini = 0.0\\nsamples = 3\\nvalue = [6, 0]'),\n",
       " Text(0.44, 0.4473684210526316, 'X[3] <= 14.5\\ngini = 0.278\\nsamples = 10\\nvalue = [15, 3]'),\n",
       " Text(0.4266666666666667, 0.39473684210526316, 'gini = 0.0\\nsamples = 1\\nvalue = [0, 1]'),\n",
       " Text(0.4533333333333333, 0.39473684210526316, 'X[2] <= 175018.0\\ngini = 0.208\\nsamples = 9\\nvalue = [15, 2]'),\n",
       " Text(0.44, 0.34210526315789475, 'X[2] <= 110179.5\\ngini = 0.117\\nsamples = 8\\nvalue = [15, 1]'),\n",
       " Text(0.4266666666666667, 0.2894736842105263, 'X[3] <= 23.5\\ngini = 0.219\\nsamples = 4\\nvalue = [7, 1]'),\n",
       " Text(0.41333333333333333, 0.23684210526315788, 'gini = 0.0\\nsamples = 3\\nvalue = [7, 0]'),\n",
       " Text(0.44, 0.23684210526315788, 'gini = 0.0\\nsamples = 1\\nvalue = [0, 1]'),\n",
       " Text(0.4533333333333333, 0.2894736842105263, 'gini = 0.0\\nsamples = 4\\nvalue = [8, 0]'),\n",
       " Text(0.4666666666666667, 0.34210526315789475, 'gini = 0.0\\nsamples = 1\\nvalue = [0, 1]'),\n",
       " Text(0.49333333333333335, 0.5526315789473685, 'X[0] <= 0.5\\ngini = 0.375\\nsamples = 5\\nvalue = [2, 6]'),\n",
       " Text(0.48, 0.5, 'X[2] <= 86578.0\\ngini = 0.444\\nsamples = 3\\nvalue = [2, 4]'),\n",
       " Text(0.4666666666666667, 0.4473684210526316, 'gini = 0.0\\nsamples = 1\\nvalue = [0, 3]'),\n",
       " Text(0.49333333333333335, 0.4473684210526316, 'X[2] <= 96174.0\\ngini = 0.444\\nsamples = 2\\nvalue = [2, 1]'),\n",
       " Text(0.48, 0.39473684210526316, 'gini = 0.0\\nsamples = 1\\nvalue = [2, 0]'),\n",
       " Text(0.5066666666666667, 0.39473684210526316, 'gini = 0.0\\nsamples = 1\\nvalue = [0, 1]'),\n",
       " Text(0.5066666666666667, 0.5, 'gini = 0.0\\nsamples = 2\\nvalue = [0, 2]'),\n",
       " Text(0.4066666666666667, 0.6578947368421053, 'gini = 0.0\\nsamples = 3\\nvalue = [7, 0]'),\n",
       " Text(0.46, 0.7631578947368421, 'X[3] <= 10.5\\ngini = 0.08\\nsamples = 18\\nvalue = [23, 1]'),\n",
       " Text(0.44666666666666666, 0.7105263157894737, 'X[3] <= 8.0\\ngini = 0.278\\nsamples = 5\\nvalue = [5, 1]'),\n",
       " Text(0.43333333333333335, 0.6578947368421053, 'gini = 0.0\\nsamples = 4\\nvalue = [5, 0]'),\n",
       " Text(0.46, 0.6578947368421053, 'gini = 0.0\\nsamples = 1\\nvalue = [0, 1]'),\n",
       " Text(0.47333333333333333, 0.7105263157894737, 'gini = 0.0\\nsamples = 13\\nvalue = [18, 0]'),\n",
       " Text(0.7366666666666667, 0.8157894736842105, 'X[3] <= 13.5\\ngini = 0.412\\nsamples = 94\\nvalue = [103, 42]'),\n",
       " Text(0.62, 0.7631578947368421, 'X[2] <= 102238.5\\ngini = 0.32\\nsamples = 42\\nvalue = [48, 12]'),\n",
       " Text(0.5733333333333334, 0.7105263157894737, 'X[2] <= 100521.5\\ngini = 0.454\\nsamples = 17\\nvalue = [15, 8]'),\n",
       " Text(0.56, 0.6578947368421053, 'X[2] <= 75271.0\\ngini = 0.408\\nsamples = 15\\nvalue = [15, 6]'),\n",
       " Text(0.5466666666666666, 0.6052631578947368, 'gini = 0.0\\nsamples = 3\\nvalue = [4, 0]'),\n",
       " Text(0.5733333333333334, 0.6052631578947368, 'X[1] <= 0.5\\ngini = 0.457\\nsamples = 12\\nvalue = [11, 6]'),\n",
       " Text(0.5466666666666666, 0.5526315789473685, 'X[3] <= 3.5\\ngini = 0.444\\nsamples = 3\\nvalue = [1, 2]'),\n",
       " Text(0.5333333333333333, 0.5, 'gini = 0.0\\nsamples = 1\\nvalue = [1, 0]'),\n",
       " Text(0.56, 0.5, 'gini = 0.0\\nsamples = 2\\nvalue = [0, 2]'),\n",
       " Text(0.6, 0.5526315789473685, 'X[3] <= 2.5\\ngini = 0.408\\nsamples = 9\\nvalue = [10, 4]'),\n",
       " Text(0.5866666666666667, 0.5, 'X[2] <= 76754.0\\ngini = 0.32\\nsamples = 3\\nvalue = [1, 4]'),\n",
       " Text(0.5733333333333334, 0.4473684210526316, 'gini = 0.0\\nsamples = 1\\nvalue = [0, 2]'),\n",
       " Text(0.6, 0.4473684210526316, 'X[0] <= 0.5\\ngini = 0.444\\nsamples = 2\\nvalue = [1, 2]'),\n",
       " Text(0.5866666666666667, 0.39473684210526316, 'gini = 0.0\\nsamples = 1\\nvalue = [0, 2]'),\n",
       " Text(0.6133333333333333, 0.39473684210526316, 'gini = 0.0\\nsamples = 1\\nvalue = [1, 0]'),\n",
       " Text(0.6133333333333333, 0.5, 'gini = 0.0\\nsamples = 6\\nvalue = [9, 0]'),\n",
       " Text(0.5866666666666667, 0.6578947368421053, 'gini = 0.0\\nsamples = 2\\nvalue = [0, 2]'),\n",
       " Text(0.6666666666666666, 0.7105263157894737, 'X[3] <= 8.5\\ngini = 0.193\\nsamples = 25\\nvalue = [33, 4]'),\n",
       " Text(0.6533333333333333, 0.6578947368421053, 'X[2] <= 193154.0\\ngini = 0.32\\nsamples = 14\\nvalue = [16, 4]'),\n",
       " Text(0.64, 0.6052631578947368, 'X[3] <= 6.0\\ngini = 0.266\\nsamples = 13\\nvalue = [16, 3]'),\n",
       " Text(0.6266666666666667, 0.5526315789473685, 'gini = 0.0\\nsamples = 8\\nvalue = [13, 0]'),\n",
       " Text(0.6533333333333333, 0.5526315789473685, 'X[1] <= 0.5\\ngini = 0.5\\nsamples = 5\\nvalue = [3, 3]'),\n",
       " Text(0.64, 0.5, 'gini = 0.0\\nsamples = 1\\nvalue = [0, 1]'),\n",
       " Text(0.6666666666666666, 0.5, 'X[2] <= 118108.5\\ngini = 0.48\\nsamples = 4\\nvalue = [3, 2]'),\n",
       " Text(0.6533333333333333, 0.4473684210526316, 'gini = 0.0\\nsamples = 1\\nvalue = [0, 1]'),\n",
       " Text(0.68, 0.4473684210526316, 'X[2] <= 132127.5\\ngini = 0.375\\nsamples = 3\\nvalue = [3, 1]'),\n",
       " Text(0.6666666666666666, 0.39473684210526316, 'gini = 0.0\\nsamples = 1\\nvalue = [2, 0]'),\n",
       " Text(0.6933333333333334, 0.39473684210526316, 'X[3] <= 7.5\\ngini = 0.5\\nsamples = 2\\nvalue = [1, 1]'),\n",
       " Text(0.68, 0.34210526315789475, 'gini = 0.0\\nsamples = 1\\nvalue = [0, 1]'),\n",
       " Text(0.7066666666666667, 0.34210526315789475, 'gini = 0.0\\nsamples = 1\\nvalue = [1, 0]'),\n",
       " Text(0.6666666666666666, 0.6052631578947368, 'gini = 0.0\\nsamples = 1\\nvalue = [0, 1]'),\n",
       " Text(0.68, 0.6578947368421053, 'gini = 0.0\\nsamples = 11\\nvalue = [17, 0]'),\n",
       " Text(0.8533333333333334, 0.7631578947368421, 'X[3] <= 20.5\\ngini = 0.457\\nsamples = 52\\nvalue = [55, 30]'),\n",
       " Text(0.7866666666666666, 0.7105263157894737, 'X[3] <= 18.5\\ngini = 0.491\\nsamples = 21\\nvalue = [13, 17]'),\n",
       " Text(0.7733333333333333, 0.6578947368421053, 'X[2] <= 114907.0\\ngini = 0.497\\nsamples = 16\\nvalue = [13, 11]'),\n",
       " Text(0.76, 0.6052631578947368, 'X[3] <= 17.5\\ngini = 0.475\\nsamples = 12\\nvalue = [7, 11]'),\n",
       " Text(0.7466666666666667, 0.5526315789473685, 'X[3] <= 15.5\\ngini = 0.43\\nsamples = 11\\nvalue = [5, 11]'),\n",
       " Text(0.72, 0.5, 'X[2] <= 78514.5\\ngini = 0.49\\nsamples = 5\\nvalue = [4, 3]'),\n",
       " Text(0.7066666666666667, 0.4473684210526316, 'gini = 0.0\\nsamples = 3\\nvalue = [4, 0]'),\n",
       " Text(0.7333333333333333, 0.4473684210526316, 'gini = 0.0\\nsamples = 2\\nvalue = [0, 3]'),\n",
       " Text(0.7733333333333333, 0.5, 'X[1] <= 1.5\\ngini = 0.198\\nsamples = 6\\nvalue = [1, 8]'),\n",
       " Text(0.76, 0.4473684210526316, 'gini = 0.0\\nsamples = 4\\nvalue = [0, 7]'),\n",
       " Text(0.7866666666666666, 0.4473684210526316, 'X[3] <= 16.5\\ngini = 0.5\\nsamples = 2\\nvalue = [1, 1]'),\n",
       " Text(0.7733333333333333, 0.39473684210526316, 'gini = 0.0\\nsamples = 1\\nvalue = [0, 1]'),\n",
       " Text(0.8, 0.39473684210526316, 'gini = 0.0\\nsamples = 1\\nvalue = [1, 0]'),\n",
       " Text(0.7733333333333333, 0.5526315789473685, 'gini = 0.0\\nsamples = 1\\nvalue = [2, 0]'),\n",
       " Text(0.7866666666666666, 0.6052631578947368, 'gini = 0.0\\nsamples = 4\\nvalue = [6, 0]'),\n",
       " Text(0.8, 0.6578947368421053, 'gini = 0.0\\nsamples = 5\\nvalue = [0, 6]'),\n",
       " Text(0.92, 0.7105263157894737, 'X[2] <= 167912.5\\ngini = 0.361\\nsamples = 31\\nvalue = [42, 13]'),\n",
       " Text(0.8666666666666667, 0.6578947368421053, 'X[3] <= 29.5\\ngini = 0.21\\nsamples = 23\\nvalue = [37, 5]'),\n",
       " Text(0.8266666666666667, 0.6052631578947368, 'X[1] <= 1.5\\ngini = 0.111\\nsamples = 20\\nvalue = [32, 2]'),\n",
       " Text(0.8133333333333334, 0.5526315789473685, 'gini = 0.0\\nsamples = 15\\nvalue = [26, 0]'),\n",
       " Text(0.84, 0.5526315789473685, 'X[3] <= 25.5\\ngini = 0.375\\nsamples = 5\\nvalue = [6, 2]'),\n",
       " Text(0.8266666666666667, 0.5, 'X[2] <= 82395.0\\ngini = 0.444\\nsamples = 3\\nvalue = [1, 2]'),\n",
       " Text(0.8133333333333334, 0.4473684210526316, 'gini = 0.0\\nsamples = 1\\nvalue = [1, 0]'),\n",
       " Text(0.84, 0.4473684210526316, 'gini = 0.0\\nsamples = 2\\nvalue = [0, 2]'),\n",
       " Text(0.8533333333333334, 0.5, 'gini = 0.0\\nsamples = 2\\nvalue = [5, 0]'),\n",
       " Text(0.9066666666666666, 0.6052631578947368, 'X[1] <= 1.5\\ngini = 0.469\\nsamples = 3\\nvalue = [5, 3]'),\n",
       " Text(0.8933333333333333, 0.5526315789473685, 'X[2] <= 140350.5\\ngini = 0.5\\nsamples = 2\\nvalue = [3, 3]'),\n",
       " Text(0.88, 0.5, 'gini = 0.0\\nsamples = 1\\nvalue = [0, 3]'),\n",
       " Text(0.9066666666666666, 0.5, 'gini = 0.0\\nsamples = 1\\nvalue = [3, 0]'),\n",
       " Text(0.92, 0.5526315789473685, 'gini = 0.0\\nsamples = 1\\nvalue = [2, 0]'),\n",
       " Text(0.9733333333333334, 0.6578947368421053, 'X[2] <= 192727.0\\ngini = 0.473\\nsamples = 8\\nvalue = [5, 8]'),\n",
       " Text(0.96, 0.6052631578947368, 'X[3] <= 21.5\\ngini = 0.32\\nsamples = 6\\nvalue = [2, 8]'),\n",
       " Text(0.9466666666666667, 0.5526315789473685, 'X[2] <= 174957.5\\ngini = 0.5\\nsamples = 3\\nvalue = [2, 2]'),\n",
       " Text(0.9333333333333333, 0.5, 'gini = 0.0\\nsamples = 1\\nvalue = [0, 2]'),\n",
       " Text(0.96, 0.5, 'gini = 0.0\\nsamples = 2\\nvalue = [2, 0]'),\n",
       " Text(0.9733333333333334, 0.5526315789473685, 'gini = 0.0\\nsamples = 3\\nvalue = [0, 6]'),\n",
       " Text(0.9866666666666667, 0.6052631578947368, 'gini = 0.0\\nsamples = 2\\nvalue = [3, 0]')]"
      ]
     },
     "execution_count": 32,
     "metadata": {},
     "output_type": "execute_result"
    },
    {
     "data": {
      "image/png": "[encoded data removed]",
      "text/plain": [
       "<Figure size 1080x720 with 1 Axes>"
      ]
     },
     "metadata": {
      "needs_background": "light"
     },
     "output_type": "display_data"
    }
   ],
   "source": [
    "# Plotting of tree\n",
    "\n",
    "fig = plt.figure(figsize=(15, 10))\n",
    "plot_tree(modelDT.estimators_[2], \n",
    "          filled=True, impurity=True, \n",
    "          rounded=True)"
   ]
  },
  {
   "cell_type": "code",
   "execution_count": 33,
   "id": "2f04043c",
   "metadata": {
    "ExecuteTime": {
     "end_time": "2023-01-03T15:39:33.332799Z",
     "start_time": "2023-01-03T15:39:33.303846Z"
    }
   },
   "outputs": [
    {
     "data": {
      "text/plain": [
       "GOOD     169\n",
       "Risky     11\n",
       "dtype: int64"
      ]
     },
     "execution_count": 33,
     "metadata": {},
     "output_type": "execute_result"
    }
   ],
   "source": [
    "# predicting on test data set\n",
    "\n",
    "preds = modelDT.predict(x_test)  \n",
    "pd.Series(preds).value_counts()"
   ]
  },
  {
   "cell_type": "code",
   "execution_count": 34,
   "id": "46ca624f",
   "metadata": {
    "ExecuteTime": {
     "end_time": "2023-01-03T15:39:33.348165Z",
     "start_time": "2023-01-03T15:39:33.334792Z"
    }
   },
   "outputs": [
    {
     "name": "stdout",
     "output_type": "stream",
     "text": [
      "['GOOD' 'GOOD' 'GOOD' 'Risky' 'GOOD' 'GOOD' 'GOOD' 'GOOD' 'GOOD' 'GOOD'\n",
      " 'GOOD' 'GOOD' 'GOOD' 'GOOD' 'GOOD' 'GOOD' 'GOOD' 'GOOD' 'GOOD' 'Risky'\n",
      " 'GOOD' 'GOOD' 'GOOD' 'GOOD' 'Risky' 'GOOD' 'GOOD' 'GOOD' 'GOOD' 'GOOD'\n",
      " 'GOOD' 'GOOD' 'GOOD' 'GOOD' 'GOOD' 'GOOD' 'GOOD' 'GOOD' 'GOOD' 'GOOD'\n",
      " 'GOOD' 'GOOD' 'GOOD' 'GOOD' 'GOOD' 'GOOD' 'GOOD' 'GOOD' 'GOOD' 'GOOD'\n",
      " 'GOOD' 'GOOD' 'GOOD' 'GOOD' 'GOOD' 'GOOD' 'GOOD' 'Risky' 'Risky' 'GOOD'\n",
      " 'GOOD' 'GOOD' 'GOOD' 'GOOD' 'GOOD' 'Risky' 'GOOD' 'GOOD' 'GOOD' 'GOOD'\n",
      " 'GOOD' 'GOOD' 'GOOD' 'GOOD' 'GOOD' 'GOOD' 'GOOD' 'GOOD' 'GOOD' 'GOOD'\n",
      " 'GOOD' 'Risky' 'GOOD' 'GOOD' 'GOOD' 'GOOD' 'GOOD' 'GOOD' 'GOOD' 'GOOD'\n",
      " 'GOOD' 'GOOD' 'Risky' 'GOOD' 'GOOD' 'GOOD' 'GOOD' 'GOOD' 'GOOD' 'GOOD'\n",
      " 'GOOD' 'GOOD' 'GOOD' 'GOOD' 'GOOD' 'GOOD' 'GOOD' 'Risky' 'GOOD' 'GOOD'\n",
      " 'GOOD' 'GOOD' 'GOOD' 'GOOD' 'GOOD' 'GOOD' 'GOOD' 'GOOD' 'GOOD' 'GOOD'\n",
      " 'GOOD' 'GOOD' 'Risky' 'GOOD' 'GOOD' 'GOOD' 'GOOD' 'GOOD' 'GOOD' 'GOOD'\n",
      " 'GOOD' 'GOOD' 'GOOD' 'GOOD' 'GOOD' 'GOOD' 'GOOD' 'GOOD' 'GOOD' 'GOOD'\n",
      " 'GOOD' 'GOOD' 'GOOD' 'GOOD' 'GOOD' 'GOOD' 'GOOD' 'GOOD' 'GOOD' 'Risky'\n",
      " 'GOOD' 'GOOD' 'GOOD' 'GOOD' 'GOOD' 'GOOD' 'GOOD' 'GOOD' 'GOOD' 'GOOD'\n",
      " 'GOOD' 'GOOD' 'GOOD' 'GOOD' 'GOOD' 'GOOD' 'GOOD' 'GOOD' 'GOOD' 'GOOD'\n",
      " 'GOOD' 'GOOD' 'GOOD' 'GOOD' 'GOOD' 'GOOD' 'GOOD' 'GOOD' 'GOOD' 'GOOD']\n"
     ]
    }
   ],
   "source": [
    "print(preds)"
   ]
  },
  {
   "cell_type": "code",
   "execution_count": 35,
   "id": "4b47c47d",
   "metadata": {
    "ExecuteTime": {
     "end_time": "2023-01-03T15:39:33.363913Z",
     "start_time": "2023-01-03T15:39:33.351690Z"
    }
   },
   "outputs": [
    {
     "data": {
      "text/plain": [
       "0.7166666666666667"
      ]
     },
     "execution_count": 35,
     "metadata": {},
     "output_type": "execute_result"
    }
   ],
   "source": [
    "#Accuracy\n",
    "accuracy_score(y_test,preds)"
   ]
  },
  {
   "cell_type": "code",
   "execution_count": 36,
   "id": "8308d368",
   "metadata": {
    "ExecuteTime": {
     "end_time": "2023-01-03T15:39:33.379143Z",
     "start_time": "2023-01-03T15:39:33.366913Z"
    }
   },
   "outputs": [
    {
     "data": {
      "text/html": [
       "<div>\n",
       "<style scoped>\n",
       "    .dataframe tbody tr th:only-of-type {\n",
       "        vertical-align: middle;\n",
       "    }\n",
       "\n",
       "    .dataframe tbody tr th {\n",
       "        vertical-align: top;\n",
       "    }\n",
       "\n",
       "    .dataframe thead th {\n",
       "        text-align: right;\n",
       "    }\n",
       "</style>\n",
       "<table border=\"1\" class=\"dataframe\">\n",
       "  <thead>\n",
       "    <tr style=\"text-align: right;\">\n",
       "      <th></th>\n",
       "      <th>Actual</th>\n",
       "      <th>Predicted</th>\n",
       "    </tr>\n",
       "  </thead>\n",
       "  <tbody>\n",
       "    <tr>\n",
       "      <th>159</th>\n",
       "      <td>GOOD</td>\n",
       "      <td>GOOD</td>\n",
       "    </tr>\n",
       "    <tr>\n",
       "      <th>307</th>\n",
       "      <td>GOOD</td>\n",
       "      <td>GOOD</td>\n",
       "    </tr>\n",
       "    <tr>\n",
       "      <th>253</th>\n",
       "      <td>GOOD</td>\n",
       "      <td>GOOD</td>\n",
       "    </tr>\n",
       "    <tr>\n",
       "      <th>528</th>\n",
       "      <td>GOOD</td>\n",
       "      <td>Risky</td>\n",
       "    </tr>\n",
       "    <tr>\n",
       "      <th>137</th>\n",
       "      <td>Risky</td>\n",
       "      <td>GOOD</td>\n",
       "    </tr>\n",
       "    <tr>\n",
       "      <th>...</th>\n",
       "      <td>...</td>\n",
       "      <td>...</td>\n",
       "    </tr>\n",
       "    <tr>\n",
       "      <th>221</th>\n",
       "      <td>GOOD</td>\n",
       "      <td>GOOD</td>\n",
       "    </tr>\n",
       "    <tr>\n",
       "      <th>390</th>\n",
       "      <td>GOOD</td>\n",
       "      <td>GOOD</td>\n",
       "    </tr>\n",
       "    <tr>\n",
       "      <th>530</th>\n",
       "      <td>GOOD</td>\n",
       "      <td>GOOD</td>\n",
       "    </tr>\n",
       "    <tr>\n",
       "      <th>232</th>\n",
       "      <td>Risky</td>\n",
       "      <td>GOOD</td>\n",
       "    </tr>\n",
       "    <tr>\n",
       "      <th>139</th>\n",
       "      <td>GOOD</td>\n",
       "      <td>GOOD</td>\n",
       "    </tr>\n",
       "  </tbody>\n",
       "</table>\n",
       "<p>180 rows × 2 columns</p>\n",
       "</div>"
      ],
      "text/plain": [
       "    Actual Predicted\n",
       "159   GOOD      GOOD\n",
       "307   GOOD      GOOD\n",
       "253   GOOD      GOOD\n",
       "528   GOOD     Risky\n",
       "137  Risky      GOOD\n",
       "..     ...       ...\n",
       "221   GOOD      GOOD\n",
       "390   GOOD      GOOD\n",
       "530   GOOD      GOOD\n",
       "232  Risky      GOOD\n",
       "139   GOOD      GOOD\n",
       "\n",
       "[180 rows x 2 columns]"
      ]
     },
     "execution_count": 36,
     "metadata": {},
     "output_type": "execute_result"
    }
   ],
   "source": [
    "df = pd.DataFrame({'Actual':y_test, 'Predicted':preds})\n",
    "df"
   ]
  },
  {
   "cell_type": "code",
   "execution_count": 37,
   "id": "4a7a9fcd",
   "metadata": {
    "ExecuteTime": {
     "end_time": "2023-01-03T15:39:33.410271Z",
     "start_time": "2023-01-03T15:39:33.382149Z"
    }
   },
   "outputs": [
    {
     "name": "stdout",
     "output_type": "stream",
     "text": [
      "[[129  11]\n",
      " [ 40   0]]\n",
      "              precision    recall  f1-score   support\n",
      "\n",
      "        GOOD       0.76      0.92      0.83       140\n",
      "       Risky       0.00      0.00      0.00        40\n",
      "\n",
      "    accuracy                           0.72       180\n",
      "   macro avg       0.38      0.46      0.42       180\n",
      "weighted avg       0.59      0.72      0.65       180\n",
      "\n"
     ]
    }
   ],
   "source": [
    "# Report and confusion matrix\n",
    "\n",
    "print(confusion_matrix(y_test,preds))\n",
    "print(classification_report(y_test,preds))"
   ]
  },
  {
   "cell_type": "code",
   "execution_count": 38,
   "id": "ab09b375",
   "metadata": {
    "ExecuteTime": {
     "end_time": "2023-01-03T15:39:33.442670Z",
     "start_time": "2023-01-03T15:39:33.412273Z"
    }
   },
   "outputs": [
    {
     "data": {
      "text/plain": [
       "array([0.04287494, 0.07754409, 0.52059953, 0.30650493, 0.05247651])"
      ]
     },
     "execution_count": 38,
     "metadata": {},
     "output_type": "execute_result"
    }
   ],
   "source": [
    "modelDT.feature_importances_"
   ]
  },
  {
   "cell_type": "code",
   "execution_count": 39,
   "id": "949e029d",
   "metadata": {
    "ExecuteTime": {
     "end_time": "2023-01-03T15:39:33.474977Z",
     "start_time": "2023-01-03T15:39:33.444907Z"
    }
   },
   "outputs": [
    {
     "data": {
      "text/html": [
       "<div>\n",
       "<style scoped>\n",
       "    .dataframe tbody tr th:only-of-type {\n",
       "        vertical-align: middle;\n",
       "    }\n",
       "\n",
       "    .dataframe tbody tr th {\n",
       "        vertical-align: top;\n",
       "    }\n",
       "\n",
       "    .dataframe thead th {\n",
       "        text-align: right;\n",
       "    }\n",
       "</style>\n",
       "<table border=\"1\" class=\"dataframe\">\n",
       "  <thead>\n",
       "    <tr style=\"text-align: right;\">\n",
       "      <th></th>\n",
       "      <th>feature</th>\n",
       "      <th>importance</th>\n",
       "    </tr>\n",
       "  </thead>\n",
       "  <tbody>\n",
       "    <tr>\n",
       "      <th>2</th>\n",
       "      <td>City_population</td>\n",
       "      <td>0.520600</td>\n",
       "    </tr>\n",
       "    <tr>\n",
       "      <th>3</th>\n",
       "      <td>Work_experience</td>\n",
       "      <td>0.306505</td>\n",
       "    </tr>\n",
       "    <tr>\n",
       "      <th>1</th>\n",
       "      <td>Maritial_status</td>\n",
       "      <td>0.077544</td>\n",
       "    </tr>\n",
       "    <tr>\n",
       "      <th>4</th>\n",
       "      <td>Urban</td>\n",
       "      <td>0.052477</td>\n",
       "    </tr>\n",
       "    <tr>\n",
       "      <th>0</th>\n",
       "      <td>Undergrad</td>\n",
       "      <td>0.042875</td>\n",
       "    </tr>\n",
       "  </tbody>\n",
       "</table>\n",
       "</div>"
      ],
      "text/plain": [
       "           feature  importance\n",
       "2  City_population    0.520600\n",
       "3  Work_experience    0.306505\n",
       "1  Maritial_status    0.077544\n",
       "4            Urban    0.052477\n",
       "0        Undergrad    0.042875"
      ]
     },
     "execution_count": 39,
     "metadata": {},
     "output_type": "execute_result"
    }
   ],
   "source": [
    "imp = pd.DataFrame({'feature': list(x_train.columns),\n",
    "                   'importance': modelDT.feature_importances_}).\\\n",
    "                    sort_values('importance', ascending = False)\n",
    "imp"
   ]
  },
  {
   "cell_type": "markdown",
   "id": "26d9727a",
   "metadata": {},
   "source": [
    "__From the table above, we can conclude that \"City_Population\" is the most important feature here.__"
   ]
  }
 ],
 "metadata": {
  "kernelspec": {
   "display_name": "Python 3 (ipykernel)",
   "language": "python",
   "name": "python3"
  },
  "language_info": {
   "codemirror_mode": {
    "name": "ipython",
    "version": 3
   },
   "file_extension": ".py",
   "mimetype": "text/x-python",
   "name": "python",
   "nbconvert_exporter": "python",
   "pygments_lexer": "ipython3",
   "version": "3.9.7"
  }
 },
 "nbformat": 4,
 "nbformat_minor": 5
}
